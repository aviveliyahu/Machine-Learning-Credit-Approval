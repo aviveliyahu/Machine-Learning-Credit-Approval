{
 "cells": [
  {
   "cell_type": "markdown",
   "metadata": {
    "application/vnd.databricks.v1+cell": {
     "cellMetadata": {},
     "inputWidgets": {},
     "nuid": "daeb57ff-96a6-474c-a8ec-0bd8082db3b9",
     "showTitle": false,
     "title": ""
    }
   },
   "source": [
    "# פרויקט סיום ניתוח נתוני עתק, המכללה האקדמית צפת\n",
    "# מגישים: אביב יהונתן אליהו, אריאל גולדווסר, מתן אסרף"
   ]
  },
  {
   "cell_type": "code",
   "execution_count": 0,
   "metadata": {
    "application/vnd.databricks.v1+cell": {
     "cellMetadata": {
      "byteLimit": 2048000,
      "rowLimit": 10000
     },
     "inputWidgets": {},
     "nuid": "3f6a49c6-04c5-4fe0-8057-dfa85ba44c90",
     "showTitle": false,
     "title": ""
    }
   },
   "outputs": [],
   "source": [
    "# import all needed functions\n",
    "from pyspark.sql import SparkSession\n",
    "from pyspark.ml.classification import LogisticRegression, RandomForestClassifier,DecisionTreeClassifier,LinearSVC,GBTClassifier,FMClassifier\n",
    "from pyspark.ml import Pipeline\n",
    "from pyspark.ml.feature import (VectorAssembler,VectorIndexer,OneHotEncoder,StringIndexer)\n",
    "from pyspark.ml.evaluation import BinaryClassificationEvaluator,MulticlassClassificationEvaluator\n",
    "import numpy as np\n",
    "from sklearn.metrics import classification_report, confusion_matrix\n",
    "from pyspark.sql.types import StructField,StringType,IntegerType,StructType\n",
    "import pyspark.pandas as pd\n",
    "from matplotlib import pyplot as plt\n",
    "import matplotlib.pyplot as plt \n",
    "import pyspark.pandas as ps\n",
    "ps.set_option('compute.ops_on_diff_frames', True)\n",
    "\n",
    "spark = SparkSession.builder.appName(\"Credit_Approval\").getOrCreate()"
   ]
  },
  {
   "cell_type": "code",
   "execution_count": 0,
   "metadata": {
    "application/vnd.databricks.v1+cell": {
     "cellMetadata": {
      "byteLimit": 2048000,
      "rowLimit": 10000
     },
     "inputWidgets": {},
     "nuid": "0f19509f-84c1-419d-8249-6de261c0e2f7",
     "showTitle": false,
     "title": ""
    }
   },
   "outputs": [],
   "source": [
    "# read relevant file\n",
    "credit = spark.read.csv(\"/FileStore/tables/clean_dataset.csv\",inferSchema=True,header=True)"
   ]
  },
  {
   "cell_type": "code",
   "execution_count": 0,
   "metadata": {
    "application/vnd.databricks.v1+cell": {
     "cellMetadata": {
      "byteLimit": 2048000,
      "rowLimit": 10000
     },
     "inputWidgets": {},
     "nuid": "f8f91c26-944a-44de-95b3-27143d7d886c",
     "showTitle": false,
     "title": ""
    }
   },
   "outputs": [
    {
     "output_type": "stream",
     "name": "stdout",
     "output_type": "stream",
     "text": [
      "Out[3]: DataFrame[Gender: int, Age: double, Debt: double, Married: int, BankCustomer: int, Industry: string, Ethnicity: string, YearsEmployed: double, PriorDefault: int, Employed: int, CreditScore: int, DriversLicense: int, Citizen: string, ZipCode: int, Income: int, Approved: int]"
     ]
    }
   ],
   "source": [
    "#lets have a look at what we have\n",
    "credit"
   ]
  },
  {
   "cell_type": "code",
   "execution_count": 0,
   "metadata": {
    "application/vnd.databricks.v1+cell": {
     "cellMetadata": {
      "byteLimit": 2048000,
      "rowLimit": 10000
     },
     "inputWidgets": {},
     "nuid": "0e07f58d-a890-41d3-badc-e194e20e4019",
     "showTitle": false,
     "title": ""
    }
   },
   "outputs": [],
   "source": [
    "final_data = credit.dropna(how=\"any\")"
   ]
  },
  {
   "cell_type": "code",
   "execution_count": 0,
   "metadata": {
    "application/vnd.databricks.v1+cell": {
     "cellMetadata": {
      "byteLimit": 2048000,
      "rowLimit": 10000
     },
     "inputWidgets": {},
     "nuid": "308d288e-7e27-4bbe-95f8-5c2a45ae0c00",
     "showTitle": false,
     "title": ""
    }
   },
   "outputs": [
    {
     "output_type": "stream",
     "name": "stdout",
     "output_type": "stream",
     "text": [
      "root\n |-- Gender: integer (nullable = true)\n |-- Age: double (nullable = true)\n |-- Debt: double (nullable = true)\n |-- Married: integer (nullable = true)\n |-- BankCustomer: integer (nullable = true)\n |-- Industry: string (nullable = true)\n |-- Ethnicity: string (nullable = true)\n |-- YearsEmployed: double (nullable = true)\n |-- PriorDefault: integer (nullable = true)\n |-- Employed: integer (nullable = true)\n |-- CreditScore: integer (nullable = true)\n |-- DriversLicense: integer (nullable = true)\n |-- Citizen: string (nullable = true)\n |-- ZipCode: integer (nullable = true)\n |-- Income: integer (nullable = true)\n |-- Approved: integer (nullable = true)\n\n"
     ]
    }
   ],
   "source": [
    "credit.printSchema()"
   ]
  },
  {
   "cell_type": "markdown",
   "metadata": {
    "application/vnd.databricks.v1+cell": {
     "cellMetadata": {},
     "inputWidgets": {},
     "nuid": "7135b54c-c690-482d-ab7f-b117d89fa149",
     "showTitle": false,
     "title": ""
    }
   },
   "source": [
    "### אם כך עמודות Industry, Ethnicity ו- Citizen\n",
    "### הן עמודות מסוג מחרוזת אשר צריך לבצע עליהן עיבוד לצורה מספרית לצורך שימוש בעמודות אלו במודל החיזוי"
   ]
  },
  {
   "cell_type": "code",
   "execution_count": 0,
   "metadata": {
    "application/vnd.databricks.v1+cell": {
     "cellMetadata": {
      "byteLimit": 2048000,
      "rowLimit": 10000
     },
     "inputWidgets": {},
     "nuid": "768568ba-b260-472a-bd66-79ee1df1c7f7",
     "showTitle": false,
     "title": ""
    }
   },
   "outputs": [
    {
     "output_type": "stream",
     "name": "stdout",
     "output_type": "stream",
     "text": [
      "Out[6]: ['Gender',\n 'Age',\n 'Debt',\n 'Married',\n 'BankCustomer',\n 'Industry',\n 'Ethnicity',\n 'YearsEmployed',\n 'PriorDefault',\n 'Employed',\n 'CreditScore',\n 'DriversLicense',\n 'Citizen',\n 'ZipCode',\n 'Income',\n 'Approved']"
     ]
    }
   ],
   "source": [
    "credit.columns"
   ]
  },
  {
   "cell_type": "code",
   "execution_count": 0,
   "metadata": {
    "application/vnd.databricks.v1+cell": {
     "cellMetadata": {
      "byteLimit": 2048000,
      "rowLimit": 10000
     },
     "inputWidgets": {},
     "nuid": "e8842884-a8e3-411d-8391-779dbe16ed85",
     "showTitle": false,
     "title": ""
    }
   },
   "outputs": [],
   "source": [
    "#for Industry\n",
    "\n",
    "industry_index = StringIndexer(inputCol='Industry',outputCol='IndustryIndex')\n",
    "\n",
    "industry_encoder = OneHotEncoder(inputCol='IndustryIndex',outputCol=\"IndustryVec\")\n",
    "\n",
    "# outcome = IndustryVec"
   ]
  },
  {
   "cell_type": "code",
   "execution_count": 0,
   "metadata": {
    "application/vnd.databricks.v1+cell": {
     "cellMetadata": {
      "byteLimit": 2048000,
      "rowLimit": 10000
     },
     "inputWidgets": {},
     "nuid": "ff8f0f83-ae32-4429-8e58-a6407fdf54cb",
     "showTitle": false,
     "title": ""
    }
   },
   "outputs": [],
   "source": [
    "#for Ethnicity\n",
    "\n",
    "ethnicity_index = StringIndexer(inputCol='Ethnicity',outputCol='EthnicityIndex')\n",
    "\n",
    "ethnicity_encoder = OneHotEncoder(inputCol='EthnicityIndex',outputCol=\"EthnicityVec\")\n",
    "\n",
    "# outcome = EthnicityVec"
   ]
  },
  {
   "cell_type": "code",
   "execution_count": 0,
   "metadata": {
    "application/vnd.databricks.v1+cell": {
     "cellMetadata": {
      "byteLimit": 2048000,
      "rowLimit": 10000
     },
     "inputWidgets": {},
     "nuid": "ce459632-8689-45c6-b2e2-9c37fd24a26f",
     "showTitle": false,
     "title": ""
    }
   },
   "outputs": [],
   "source": [
    "#for Citizen\n",
    "\n",
    "citizen_index = StringIndexer(inputCol='Citizen',outputCol='CitizenIndex')\n",
    "\n",
    "citizen_encoder = OneHotEncoder(inputCol='CitizenIndex',outputCol=\"CitizenVec\")\n",
    "\n",
    "# outcome = CitizenVec"
   ]
  },
  {
   "cell_type": "code",
   "execution_count": 0,
   "metadata": {
    "application/vnd.databricks.v1+cell": {
     "cellMetadata": {
      "byteLimit": 2048000,
      "rowLimit": 10000
     },
     "inputWidgets": {},
     "nuid": "67321258-9750-442b-9812-22993fa63708",
     "showTitle": false,
     "title": ""
    }
   },
   "outputs": [],
   "source": [
    "assembler = VectorAssembler(inputCols=['Gender','Age','Debt','Married','BankCustomer','YearsEmployed','PriorDefault',\n",
    " 'Employed','CreditScore','DriversLicense','ZipCode','Income','IndustryVec',\"EthnicityVec\",\"CitizenVec\"], outputCol = \"features\")"
   ]
  },
  {
   "cell_type": "code",
   "execution_count": 0,
   "metadata": {
    "application/vnd.databricks.v1+cell": {
     "cellMetadata": {
      "byteLimit": 2048000,
      "rowLimit": 10000
     },
     "inputWidgets": {},
     "nuid": "d2f685af-44fd-42ec-a8d2-80bca384c073",
     "showTitle": false,
     "title": ""
    }
   },
   "outputs": [],
   "source": [
    "#all the models we will use\n",
    "lr_model = LogisticRegression(featuresCol=\"features\", labelCol=\"Approved\")\n",
    "\n",
    "rf_model = RandomForestClassifier(featuresCol=\"features\", labelCol=\"Approved\",numTrees=20)\n",
    "\n",
    "dt_model = DecisionTreeClassifier(featuresCol=\"features\", labelCol=\"Approved\")\n",
    "\n",
    "gbt_model = GBTClassifier(featuresCol=\"features\", labelCol=\"Approved\")\n",
    "\n",
    "svm_model = LinearSVC(featuresCol=\"features\", labelCol=\"Approved\")\n",
    "\n",
    "# new algorithm!\n",
    "\n",
    "fm_model = FMClassifier(featuresCol=\"features\", labelCol=\"Approved\", stepSize=0.001)"
   ]
  },
  {
   "cell_type": "code",
   "execution_count": 0,
   "metadata": {
    "application/vnd.databricks.v1+cell": {
     "cellMetadata": {
      "byteLimit": 2048000,
      "rowLimit": 10000
     },
     "inputWidgets": {},
     "nuid": "3d12f21b-cc7f-43bf-88d9-e76598b21542",
     "showTitle": false,
     "title": ""
    }
   },
   "outputs": [],
   "source": [
    "# dictionary for each model\n",
    "lr={'acc':0,'f1':0,'recall':0,'precision':0,'auc':0,'specifity':0,'fp':0,'tn':0}\n",
    "rf={'acc':0,'f1':0,'recall':0,'precision':0,'auc':0,'specifity':0,'fp':0,'tn':0}\n",
    "dt={'acc':0,'f1':0,'recall':0,'precision':0,'auc':0,'specifity':0,'fp':0,'tn':0}\n",
    "gbt={'acc':0,'f1':0,'recall':0,'precision':0,'auc':0,'specifity':0,'fp':0,'tn':0}\n",
    "svm={'acc':0,'f1':0,'recall':0,'precision':0,'auc':0,'specifity':0,'fp':0,'tn':0}\n",
    "fm={'acc':0,'f1':0,'recall':0,'precision':0,'auc':0,'specifity':0,'fp':0,'tn':0}\n",
    "\n",
    "# pipeline for each model\n",
    "pipline_lr = Pipeline(stages = [industry_index,citizen_index,ethnicity_index,industry_encoder,citizen_encoder,ethnicity_encoder,assembler,lr_model])\n",
    "pipline_rf = Pipeline(stages = [industry_index,citizen_index,ethnicity_index,industry_encoder,citizen_encoder,ethnicity_encoder,assembler,rf_model])\n",
    "pipline_gbt = Pipeline(stages = [industry_index,citizen_index,ethnicity_index,industry_encoder,citizen_encoder,ethnicity_encoder,assembler,gbt_model])\n",
    "pipline_dt = Pipeline(stages = [industry_index,citizen_index,ethnicity_index,industry_encoder,citizen_encoder,ethnicity_encoder,assembler,dt_model])\n",
    "pipline_svm = Pipeline(stages = [industry_index,citizen_index,ethnicity_index,industry_encoder,citizen_encoder,ethnicity_encoder,assembler,svm_model])\n",
    "pipline_fm = Pipeline(stages = [industry_index,citizen_index,ethnicity_index,industry_encoder,citizen_encoder,ethnicity_encoder,assembler,fm_model])\n",
    "\n",
    "for i in range(10):\n",
    "    train,test = final_data.randomSplit([0.7,0.3])\n",
    "\n",
    "    # fit each model\n",
    "    fit_model_lr = pipline_lr.fit(train)\n",
    "    fit_model_rf = pipline_rf.fit(train)\n",
    "    fit_model_gbt = pipline_gbt.fit(train)\n",
    "    fit_model_dt = pipline_dt.fit(train)\n",
    "    fit_model_svm = pipline_svm.fit(train)\n",
    "    fit_model_fm = pipline_fm.fit(train)\n",
    "\n",
    "    # results of each model\n",
    "    results_lr = fit_model_lr.transform(test)\n",
    "    results_lr = (results_lr.withColumnRenamed('Approved','Approved_lr').withColumnRenamed('prediction','prediction_lr'))\n",
    "\n",
    "    results_rf = fit_model_rf.transform(test)\n",
    "    results_rf = (results_rf.withColumnRenamed('Approved','Approved_rf').withColumnRenamed('prediction','prediction_rf'))\n",
    "\n",
    "    results_gbt = fit_model_gbt.transform(test)\n",
    "    results_gbt = (results_gbt.withColumnRenamed('Approved','Approved_gbt').withColumnRenamed('prediction','prediction_gbt'))\n",
    "\n",
    "    results_dt = fit_model_dt.transform(test)\n",
    "    results_dt = (results_dt.withColumnRenamed('Approved','Approved_dt').withColumnRenamed('prediction','prediction_dt'))\n",
    "    \n",
    "    results_svm = fit_model_svm.transform(test)\n",
    "    results_svm = (results_svm.withColumnRenamed('Approved','Approved_svm').withColumnRenamed('prediction','prediction_svm'))\n",
    "\n",
    "    results_fm = fit_model_fm.transform(test)\n",
    "    results_fm = (results_fm.withColumnRenamed('Approved','Approved_fm').withColumnRenamed('prediction','prediction_fm'))\n",
    "\n",
    "    # final results of each model\n",
    "    final_results_lr = results_lr.select('Approved_lr','prediction_lr')\n",
    "    final_results_rf = results_rf.select('Approved_rf','prediction_rf')\n",
    "    final_results_gbt = results_gbt.select('Approved_gbt','prediction_gbt')\n",
    "    final_results_dt = results_dt.select('Approved_dt','prediction_dt')\n",
    "    final_results_svm = results_svm.select('Approved_svm','prediction_svm')\n",
    "    final_results_fm = results_fm.select('Approved_fm','prediction_fm')\n",
    "\n",
    "    # evaluation of each model\n",
    "    my_eval_lr = BinaryClassificationEvaluator(rawPredictionCol='prediction_lr',labelCol='Approved_lr')\n",
    "    my_eval_rf = BinaryClassificationEvaluator(rawPredictionCol='prediction_rf',labelCol='Approved_rf')\n",
    "    my_eval_gbt = BinaryClassificationEvaluator(rawPredictionCol='prediction_gbt',labelCol='Approved_gbt')\n",
    "    my_eval_dt = BinaryClassificationEvaluator(rawPredictionCol='prediction_dt',labelCol='Approved_dt')\n",
    "    my_eval_svm = BinaryClassificationEvaluator(rawPredictionCol='prediction_svm',labelCol='Approved_svm')\n",
    "    my_eval_fm = BinaryClassificationEvaluator(rawPredictionCol='prediction_fm',labelCol='Approved_fm')\n",
    "\n",
    "    # confusion matrix of each model\n",
    "    y_test_lr = test.select(['Approved']).collect()\n",
    "    y_pred_lr = final_results_lr.select(['prediction_lr']).collect()\n",
    "    confusion_lr = confusion_matrix(y_test_lr, y_pred_lr)\n",
    "\n",
    "    y_test_rf = test.select(['Approved']).collect()\n",
    "    y_pred_rf = final_results_rf.select(['prediction_rf']).collect()\n",
    "    confusion_rf = confusion_matrix(y_test_rf, y_pred_rf)\n",
    "\n",
    "    y_test_gbt = test.select(['Approved']).collect()\n",
    "    y_pred_gbt = final_results_gbt.select(['prediction_gbt']).collect()\n",
    "    confusion_gbt = confusion_matrix(y_test_gbt, y_pred_gbt)\n",
    "\n",
    "    y_test_dt = test.select(['Approved']).collect()\n",
    "    y_pred_dt = final_results_dt.select(['prediction_dt']).collect()\n",
    "    confusion_dt = confusion_matrix(y_test_dt, y_pred_dt)\n",
    "\n",
    "    y_test_svm = test.select(['Approved']).collect()\n",
    "    y_pred_svm = final_results_svm.select(['prediction_svm']).collect()\n",
    "    confusion_svm = confusion_matrix(y_test_svm, y_pred_svm)\n",
    "\n",
    "    y_test_fm = test.select(['Approved']).collect()\n",
    "    y_pred_fm = final_results_fm.select(['prediction_fm']).collect()\n",
    "    confusion_fm = confusion_matrix(y_test_fm, y_pred_fm)\n",
    "\n",
    "\n",
    "    # calculate each model's results\n",
    "    eval_acc_lr = MulticlassClassificationEvaluator(predictionCol='prediction_lr', labelCol='Approved_lr',metricName='accuracy')\n",
    "    eval_f1_lr = MulticlassClassificationEvaluator(predictionCol='prediction_lr', labelCol='Approved_lr',metricName='f1')\n",
    "    eval_recall_lr = MulticlassClassificationEvaluator(predictionCol='prediction_lr', labelCol='Approved_lr',metricName='recallByLabel')\n",
    "    eval_precision_lr = MulticlassClassificationEvaluator(predictionCol='prediction_lr', labelCol='Approved_lr',metricName='precisionByLabel')\n",
    "\n",
    "    eval_acc_rf = MulticlassClassificationEvaluator(predictionCol='prediction_rf', labelCol='Approved_rf',metricName='accuracy')\n",
    "    eval_f1_rf = MulticlassClassificationEvaluator(predictionCol='prediction_rf', labelCol='Approved_rf',metricName='f1')\n",
    "    eval_recall_rf = MulticlassClassificationEvaluator(predictionCol='prediction_rf', labelCol='Approved_rf',metricName='recallByLabel')\n",
    "    eval_precision_rf = MulticlassClassificationEvaluator(predictionCol='prediction_rf', labelCol='Approved_rf',metricName='precisionByLabel')\n",
    "\n",
    "    eval_acc_gbt = MulticlassClassificationEvaluator(predictionCol='prediction_gbt', labelCol='Approved_gbt',metricName='accuracy')\n",
    "    eval_f1_gbt = MulticlassClassificationEvaluator(predictionCol='prediction_gbt', labelCol='Approved_gbt',metricName='f1')\n",
    "    eval_recall_gbt = MulticlassClassificationEvaluator(predictionCol='prediction_gbt', labelCol='Approved_gbt',metricName='recallByLabel')\n",
    "    eval_precision_gbt = MulticlassClassificationEvaluator(predictionCol='prediction_gbt', labelCol='Approved_gbt',metricName='precisionByLabel')\n",
    "\n",
    "    eval_acc_dt = MulticlassClassificationEvaluator(predictionCol='prediction_dt', labelCol='Approved_dt',metricName='accuracy')\n",
    "    eval_f1_dt = MulticlassClassificationEvaluator(predictionCol='prediction_dt', labelCol='Approved_dt',metricName='f1')\n",
    "    eval_recall_dt = MulticlassClassificationEvaluator(predictionCol='prediction_dt', labelCol='Approved_dt',metricName='recallByLabel')\n",
    "    eval_precision_dt = MulticlassClassificationEvaluator(predictionCol='prediction_dt', labelCol='Approved_dt',metricName='precisionByLabel')\n",
    "\n",
    "    eval_acc_svm = MulticlassClassificationEvaluator(predictionCol='prediction_svm', labelCol='Approved_svm',metricName='accuracy')\n",
    "    eval_f1_svm = MulticlassClassificationEvaluator(predictionCol='prediction_svm', labelCol='Approved_svm',metricName='f1')\n",
    "    eval_recall_svm = MulticlassClassificationEvaluator(predictionCol='prediction_svm', labelCol='Approved_svm',metricName='recallByLabel')\n",
    "    eval_precision_svm = MulticlassClassificationEvaluator(predictionCol='prediction_svm', labelCol='Approved_svm',metricName='precisionByLabel')\n",
    "\n",
    "    eval_acc_fm = MulticlassClassificationEvaluator(predictionCol='prediction_fm', labelCol='Approved_fm',metricName='accuracy')\n",
    "    eval_f1_fm = MulticlassClassificationEvaluator(predictionCol='prediction_fm', labelCol='Approved_fm',metricName='f1')\n",
    "    eval_recall_fm = MulticlassClassificationEvaluator(predictionCol='prediction_fm', labelCol='Approved_fm',metricName='recallByLabel')\n",
    "    eval_precision_fm = MulticlassClassificationEvaluator(predictionCol='prediction_fm', labelCol='Approved_fm',metricName='precisionByLabel')\n",
    "\n",
    "    # save results of each model\n",
    "    accuracy_lr = eval_acc_lr.evaluate(final_results_lr)\n",
    "    f1_lr = eval_f1_lr.evaluate(final_results_lr)\n",
    "    precision_lr = eval_precision_lr.evaluate(final_results_lr)\n",
    "    recall_lr = eval_recall_lr.evaluate(final_results_lr)\n",
    "    auc_lr = my_eval_lr.evaluate(final_results_lr)\n",
    "\n",
    "    accuracy_rf = eval_acc_rf.evaluate(final_results_rf)\n",
    "    f1_rf = eval_f1_rf.evaluate(final_results_rf)\n",
    "    precision_rf = eval_precision_rf.evaluate(final_results_rf)\n",
    "    recall_rf = eval_recall_rf.evaluate(final_results_rf)\n",
    "    auc_rf = my_eval_rf.evaluate(final_results_rf)\n",
    "\n",
    "    accuracy_gbt = eval_acc_gbt.evaluate(final_results_gbt)\n",
    "    f1_gbt = eval_f1_gbt.evaluate(final_results_gbt)\n",
    "    precision_gbt = eval_precision_gbt.evaluate(final_results_gbt)\n",
    "    recall_gbt = eval_recall_gbt.evaluate(final_results_gbt)\n",
    "    auc_gbt = my_eval_gbt.evaluate(final_results_gbt)\n",
    "\n",
    "    accuracy_dt = eval_acc_dt.evaluate(final_results_dt)\n",
    "    f1_dt = eval_f1_dt.evaluate(final_results_dt)\n",
    "    precision_dt = eval_precision_dt.evaluate(final_results_dt)\n",
    "    recall_dt = eval_recall_dt.evaluate(final_results_dt)\n",
    "    auc_dt = my_eval_dt.evaluate(final_results_dt)\n",
    "\n",
    "    accuracy_svm = eval_acc_svm.evaluate(final_results_svm)\n",
    "    f1_svm = eval_f1_svm.evaluate(final_results_svm)\n",
    "    precision_svm = eval_precision_svm.evaluate(final_results_svm)\n",
    "    recall_svm = eval_recall_svm.evaluate(final_results_svm)\n",
    "    auc_svm = my_eval_svm.evaluate(final_results_svm)\n",
    "\n",
    "    accuracy_fm = eval_acc_fm.evaluate(final_results_fm)\n",
    "    f1_fm = eval_f1_fm.evaluate(final_results_fm)\n",
    "    precision_fm = eval_precision_fm.evaluate(final_results_fm)\n",
    "    recall_fm = eval_recall_fm.evaluate(final_results_fm)\n",
    "    auc_fm = my_eval_fm.evaluate(final_results_fm)\n",
    "\n",
    "    #add values to each model's dictionary\n",
    "    lr['acc'] = lr['acc'] +accuracy_lr\n",
    "    lr['f1'] = lr['f1'] +f1_lr\n",
    "    lr['recall'] = lr['recall'] +recall_lr\n",
    "    lr['precision'] = lr['precision'] +precision_lr\n",
    "    lr['auc'] = lr['auc'] +auc_lr\n",
    "    lr['fp'] = lr['fp'] + confusion_lr[0][1]\n",
    "    lr['tn'] = lr['tn'] + confusion_lr[1][1]\n",
    "    lr[\"specifity\"] = lr['tn']/(lr['tn']+lr['fp'])\n",
    "\n",
    "    rf['acc'] = rf['acc'] +accuracy_rf\n",
    "    rf['f1'] = rf['f1'] +f1_rf\n",
    "    rf['recall'] = rf['recall'] +recall_rf\n",
    "    rf['precision'] = rf['precision'] +precision_rf\n",
    "    rf['auc'] = rf['auc'] +auc_rf\n",
    "    rf['fp'] = rf['fp'] + confusion_rf[0][1]\n",
    "    rf['tn'] = rf['tn'] + confusion_rf[1][1]\n",
    "    rf[\"specifity\"] = rf['tn']/(rf['tn']+rf['fp'])\n",
    "\n",
    "    gbt['acc'] = gbt['acc'] +accuracy_gbt\n",
    "    gbt['f1'] = gbt['f1'] +f1_gbt\n",
    "    gbt['recall'] = gbt['recall'] +recall_gbt\n",
    "    gbt['precision'] = gbt['precision'] +precision_gbt\n",
    "    gbt['auc'] = gbt['auc'] +auc_gbt\n",
    "    gbt['fp'] = gbt['fp'] + confusion_gbt[0][1]\n",
    "    gbt['tn'] = gbt['tn'] + confusion_gbt[1][1]\n",
    "    gbt[\"specifity\"] = gbt['tn']/(gbt['tn']+gbt['fp'])\n",
    "\n",
    "    dt['acc'] = dt['acc'] +accuracy_dt\n",
    "    dt['f1'] = dt['f1'] +f1_dt\n",
    "    dt['recall'] = dt['recall'] +recall_dt\n",
    "    dt['precision'] = dt['precision'] +precision_dt\n",
    "    dt['auc'] = dt['auc'] +auc_dt\n",
    "    dt['fp'] = dt['fp'] + confusion_dt[0][1]\n",
    "    dt['tn'] = dt['tn'] + confusion_dt[1][1]\n",
    "    dt[\"specifity\"] = dt['tn']/(dt['tn']+dt['fp'])\n",
    "\n",
    "    svm['acc'] = svm['acc'] +accuracy_svm\n",
    "    svm['f1'] = svm['f1'] +f1_svm\n",
    "    svm['recall'] = svm['recall'] +recall_svm\n",
    "    svm['precision'] = svm['precision'] +precision_svm\n",
    "    svm['auc'] = svm['auc'] +auc_svm\n",
    "    svm['fp'] = svm['fp'] + confusion_svm[0][1]\n",
    "    svm['tn'] = svm['tn'] + confusion_svm[1][1]\n",
    "    svm[\"specifity\"] = svm['tn']/(svm['tn']+svm['fp'])\n",
    "\n",
    "    fm['acc'] = fm['acc'] +accuracy_fm\n",
    "    fm['f1'] = fm['f1'] +f1_fm\n",
    "    fm['recall'] = fm['recall'] +recall_fm\n",
    "    fm['precision'] = fm['precision'] +precision_fm\n",
    "    fm['auc'] = fm['auc'] +auc_fm\n",
    "    fm['fp'] = fm['fp'] + confusion_fm[0][1]\n",
    "    fm['tn'] = fm['tn'] + confusion_fm[1][1]\n",
    "    fm[\"specifity\"] = fm['tn']/(fm['tn']+fm['fp'])"
   ]
  },
  {
   "cell_type": "code",
   "execution_count": 0,
   "metadata": {
    "application/vnd.databricks.v1+cell": {
     "cellMetadata": {
      "byteLimit": 2048000,
      "rowLimit": 10000
     },
     "inputWidgets": {},
     "nuid": "31ebcf7d-6fa3-4230-b0db-f82987ac2784",
     "showTitle": false,
     "title": ""
    }
   },
   "outputs": [],
   "source": [
    "# create dataframe for each model\n",
    "\n",
    "df_lr = pd.DataFrame(lr,index=[\"Logistic Regression\"])\n",
    "df_rf = pd.DataFrame(rf,index=[\"Random Forest\"])\n",
    "df_dt = pd.DataFrame(dt,index=[\"Decision Tree\"])\n",
    "df_gbt = pd.DataFrame(gbt,index=[\"Gradient Boosting Tree\"])\n",
    "df_svm = pd.DataFrame(svm,index=[\"Support Vector Machine\"])\n",
    "df_fm = pd.DataFrame(fm,index=[\"Factorization machines\"])"
   ]
  },
  {
   "cell_type": "code",
   "execution_count": 0,
   "metadata": {
    "application/vnd.databricks.v1+cell": {
     "cellMetadata": {
      "byteLimit": 2048000,
      "rowLimit": 10000
     },
     "inputWidgets": {},
     "nuid": "87de1a3c-4b29-4558-a276-a8bb27f8eb36",
     "showTitle": false,
     "title": ""
    }
   },
   "outputs": [
    {
     "output_type": "display_data",
     "data": {
      "text/html": [
       "<div>\n",
       "<style scoped>\n",
       "    .dataframe tbody tr th:only-of-type {\n",
       "        vertical-align: middle;\n",
       "    }\n",
       "\n",
       "    .dataframe tbody tr th {\n",
       "        vertical-align: top;\n",
       "    }\n",
       "\n",
       "    .dataframe thead th {\n",
       "        text-align: right;\n",
       "    }\n",
       "</style>\n",
       "<table border=\"1\" class=\"dataframe\">\n",
       "  <thead>\n",
       "    <tr style=\"text-align: right;\">\n",
       "      <th></th>\n",
       "      <th>acc</th>\n",
       "      <th>f1</th>\n",
       "      <th>recall</th>\n",
       "      <th>precision</th>\n",
       "      <th>auc</th>\n",
       "      <th>specifity</th>\n",
       "      <th>fp</th>\n",
       "      <th>tn</th>\n",
       "    </tr>\n",
       "    <tr>\n",
       "      <th>Model Name</th>\n",
       "      <th></th>\n",
       "      <th></th>\n",
       "      <th></th>\n",
       "      <th></th>\n",
       "      <th></th>\n",
       "      <th></th>\n",
       "      <th></th>\n",
       "      <th></th>\n",
       "    </tr>\n",
       "  </thead>\n",
       "  <tbody>\n",
       "    <tr>\n",
       "      <th>Logistic Regression</th>\n",
       "      <td>0.852998</td>\n",
       "      <td>0.853307</td>\n",
       "      <td>0.847327</td>\n",
       "      <td>0.888667</td>\n",
       "      <td>0.853807</td>\n",
       "      <td>0.812308</td>\n",
       "      <td>18.3</td>\n",
       "      <td>79.2</td>\n",
       "    </tr>\n",
       "    <tr>\n",
       "      <th>Random Forest</th>\n",
       "      <td>0.869599</td>\n",
       "      <td>0.869723</td>\n",
       "      <td>0.874249</td>\n",
       "      <td>0.894116</td>\n",
       "      <td>0.868986</td>\n",
       "      <td>0.840381</td>\n",
       "      <td>15.1</td>\n",
       "      <td>79.5</td>\n",
       "    </tr>\n",
       "    <tr>\n",
       "      <th>Decision Tree</th>\n",
       "      <td>0.840518</td>\n",
       "      <td>0.839934</td>\n",
       "      <td>0.874059</td>\n",
       "      <td>0.849751</td>\n",
       "      <td>0.835215</td>\n",
       "      <td>0.829379</td>\n",
       "      <td>15.1</td>\n",
       "      <td>73.4</td>\n",
       "    </tr>\n",
       "    <tr>\n",
       "      <th>Gradient Boosting Tree</th>\n",
       "      <td>0.847637</td>\n",
       "      <td>0.847757</td>\n",
       "      <td>0.858474</td>\n",
       "      <td>0.871067</td>\n",
       "      <td>0.846137</td>\n",
       "      <td>0.818763</td>\n",
       "      <td>17.0</td>\n",
       "      <td>76.8</td>\n",
       "    </tr>\n",
       "    <tr>\n",
       "      <th>Support Vector Machine</th>\n",
       "      <td>0.840921</td>\n",
       "      <td>0.841445</td>\n",
       "      <td>0.807530</td>\n",
       "      <td>0.904023</td>\n",
       "      <td>0.847338</td>\n",
       "      <td>0.778947</td>\n",
       "      <td>23.1</td>\n",
       "      <td>81.4</td>\n",
       "    </tr>\n",
       "    <tr>\n",
       "      <th>Factorization machines</th>\n",
       "      <td>0.804717</td>\n",
       "      <td>0.799335</td>\n",
       "      <td>0.918496</td>\n",
       "      <td>0.778136</td>\n",
       "      <td>0.787202</td>\n",
       "      <td>0.860399</td>\n",
       "      <td>9.8</td>\n",
       "      <td>60.4</td>\n",
       "    </tr>\n",
       "  </tbody>\n",
       "</table>\n",
       "</div>"
      ]
     },
     "metadata": {
      "application/vnd.databricks.v1+output": {
       "addedWidgets": {},
       "arguments": {},
       "data": "<div>\n<style scoped>\n    .dataframe tbody tr th:only-of-type {\n        vertical-align: middle;\n    }\n\n    .dataframe tbody tr th {\n        vertical-align: top;\n    }\n\n    .dataframe thead th {\n        text-align: right;\n    }\n</style>\n<table border=\"1\" class=\"dataframe\">\n  <thead>\n    <tr style=\"text-align: right;\">\n      <th></th>\n      <th>acc</th>\n      <th>f1</th>\n      <th>recall</th>\n      <th>precision</th>\n      <th>auc</th>\n      <th>specifity</th>\n      <th>fp</th>\n      <th>tn</th>\n    </tr>\n    <tr>\n      <th>Model Name</th>\n      <th></th>\n      <th></th>\n      <th></th>\n      <th></th>\n      <th></th>\n      <th></th>\n      <th></th>\n      <th></th>\n    </tr>\n  </thead>\n  <tbody>\n    <tr>\n      <th>Logistic Regression</th>\n      <td>0.852998</td>\n      <td>0.853307</td>\n      <td>0.847327</td>\n      <td>0.888667</td>\n      <td>0.853807</td>\n      <td>0.812308</td>\n      <td>18.3</td>\n      <td>79.2</td>\n    </tr>\n    <tr>\n      <th>Random Forest</th>\n      <td>0.869599</td>\n      <td>0.869723</td>\n      <td>0.874249</td>\n      <td>0.894116</td>\n      <td>0.868986</td>\n      <td>0.840381</td>\n      <td>15.1</td>\n      <td>79.5</td>\n    </tr>\n    <tr>\n      <th>Decision Tree</th>\n      <td>0.840518</td>\n      <td>0.839934</td>\n      <td>0.874059</td>\n      <td>0.849751</td>\n      <td>0.835215</td>\n      <td>0.829379</td>\n      <td>15.1</td>\n      <td>73.4</td>\n    </tr>\n    <tr>\n      <th>Gradient Boosting Tree</th>\n      <td>0.847637</td>\n      <td>0.847757</td>\n      <td>0.858474</td>\n      <td>0.871067</td>\n      <td>0.846137</td>\n      <td>0.818763</td>\n      <td>17.0</td>\n      <td>76.8</td>\n    </tr>\n    <tr>\n      <th>Support Vector Machine</th>\n      <td>0.840921</td>\n      <td>0.841445</td>\n      <td>0.807530</td>\n      <td>0.904023</td>\n      <td>0.847338</td>\n      <td>0.778947</td>\n      <td>23.1</td>\n      <td>81.4</td>\n    </tr>\n    <tr>\n      <th>Factorization machines</th>\n      <td>0.804717</td>\n      <td>0.799335</td>\n      <td>0.918496</td>\n      <td>0.778136</td>\n      <td>0.787202</td>\n      <td>0.860399</td>\n      <td>9.8</td>\n      <td>60.4</td>\n    </tr>\n  </tbody>\n</table>\n</div>",
       "datasetInfos": [],
       "metadata": {},
       "removedWidgets": [],
       "textData": null,
       "type": "htmlSandbox"
      }
     },
     "output_type": "display_data"
    }
   ],
   "source": [
    "# create a combined DF of all the models\n",
    "models_df = pd.concat([df_lr,df_rf,df_dt,df_gbt,df_svm,df_fm])\n",
    "models_df = models_df/10\n",
    "models_df['specifity'] = models_df['specifity']*10\n",
    "\n",
    "#rename the index\n",
    "models_df = models_df.rename_axis('Model Name')\n",
    "\n",
    "#show model\n",
    "models_df"
   ]
  },
  {
   "cell_type": "markdown",
   "metadata": {
    "application/vnd.databricks.v1+cell": {
     "cellMetadata": {
      "byteLimit": 2048000,
      "rowLimit": 10000
     },
     "inputWidgets": {},
     "nuid": "aff647ac-ac07-43da-98a4-65b2083f270e",
     "showTitle": false,
     "title": ""
    }
   },
   "source": [
    "# מסקנות סופיות"
   ]
  },
  {
   "cell_type": "markdown",
   "metadata": {
    "application/vnd.databricks.v1+cell": {
     "cellMetadata": {},
     "inputWidgets": {},
     "nuid": "9ea13734-edd7-402f-b9dd-5d5ec3620528",
     "showTitle": false,
     "title": ""
    }
   },
   "source": [
    "<div style=\"direction:rtl\">\n",
    "מן הטבלה הסופית ניתן לראות כי כלל המודלים מראים תוצאות דומות בקירוב גדול מאוד, בכלל הפרמטרים. למרות זאת, נראה כי מודל random forest\n",
    "הוא המודל המוביל ברוב המדדים ולכן הוא המודל המוביל לשימוש בו לצורך חיזוי אישור או דחיית אשראי של אדם.\n",
    "\n",
    "הדיוק של 86.9% מדגים את יכולתו לחזות את תוצאת קבלת האשראי, בנוסף לזאת תוצאת הF-1 של 86.9% מצביעה על איזון טוב בין precision וrecall, דבר אשר הכרחי לטיפול אפקטיבי בהם המקרה נדחה וגם במקרים בהם אושר.\n",
    "\n",
    "בנוסף לזאת המודל מצליח להראות הישגים מרשימים באזור מתחת לעקומה(AUC) של 86.8%, דבר המדגיש את יכולתו להתמודד גם עם תנאי סף שונים במידה וינתנו לו , ויתמודד עם רמות שונות של ודאות בסיווג.\n",
    "\n",
    "על ידי מתן עדיפות לaccuracy ,ציון מאוזן בF-1, וביצועים מרשימים באזור מתחת לעקומה(auc), מודל הRandom forest מדגים את הפוטניצאל לסווג ולזהות את הבקשות שיאושרו ידחו בהמשך עפ\"י פרמטרים שיוזנו למערכת.\n",
    "</div>"
   ]
  },
  {
   "cell_type": "markdown",
   "metadata": {
    "application/vnd.databricks.v1+cell": {
     "cellMetadata": {},
     "inputWidgets": {},
     "nuid": "dbebe3fc-59b4-4d6b-bcaa-53ece5c6a8d1",
     "showTitle": false,
     "title": ""
    }
   },
   "source": [
    "### נציג את התוצאות בצורה ויזואלית נוחה יותר"
   ]
  },
  {
   "cell_type": "code",
   "execution_count": 0,
   "metadata": {
    "application/vnd.databricks.v1+cell": {
     "cellMetadata": {
      "byteLimit": 2048000,
      "rowLimit": 10000
     },
     "inputWidgets": {},
     "nuid": "ae6d54ff-040c-4786-8a4e-4c92e2e65d50",
     "showTitle": false,
     "title": ""
    }
   },
   "outputs": [
    {
     "output_type": "display_data",
     "data": {
      "text/html": [
       "<html>\n",
       "<head><meta charset=\"utf-8\" /></head>\n",
       "<body>\n",
       "    <div>            <script src=\"https://cdnjs.cloudflare.com/ajax/libs/mathjax/2.7.5/MathJax.js?config=TeX-AMS-MML_SVG\"></script><script type=\"text/javascript\">if (window.MathJax) {MathJax.Hub.Config({SVG: {font: \"STIX-Web\"}});}</script>                <script type=\"text/javascript\">window.PlotlyConfig = {MathJaxConfig: 'local'};</script>\n",
       "        <script src=\"https://cdn.plot.ly/plotly-2.9.0.min.js\"></script>                <div id=\"5657c7ed-31f0-415f-8ed7-c3086aba907a\" class=\"plotly-graph-div\" style=\"height:100%; width:100%;\"></div>            <script type=\"text/javascript\">                                    window.PLOTLYENV=window.PLOTLYENV || {};                                    if (document.getElementById(\"5657c7ed-31f0-415f-8ed7-c3086aba907a\")) {                    Plotly.newPlot(                        \"5657c7ed-31f0-415f-8ed7-c3086aba907a\",                        [{\"alignmentgroup\":\"True\",\"hovertemplate\":\"variable=acc<br>value=%{x}<br>Model Name=%{y}<extra></extra>\",\"legendgroup\":\"acc\",\"marker\":{\"color\":\"#636efa\",\"pattern\":{\"shape\":\"\"}},\"name\":\"acc\",\"offsetgroup\":\"acc\",\"orientation\":\"h\",\"showlegend\":true,\"textposition\":\"auto\",\"x\":[0.8529977691806643,0.8695994213178062,0.840518109360868,0.8476368464601315,0.8409213488017867,0.8047167418541552],\"xaxis\":\"x\",\"y\":[\"Logistic Regression\",\"Random Forest\",\"Decision Tree\",\"Gradient Boosting Tree\",\"Support Vector Machine\",\"Factorization machines\"],\"yaxis\":\"y\",\"type\":\"bar\"},{\"alignmentgroup\":\"True\",\"hovertemplate\":\"variable=f1<br>value=%{x}<br>Model Name=%{y}<extra></extra>\",\"legendgroup\":\"f1\",\"marker\":{\"color\":\"#EF553B\",\"pattern\":{\"shape\":\"\"}},\"name\":\"f1\",\"offsetgroup\":\"f1\",\"orientation\":\"h\",\"showlegend\":true,\"textposition\":\"auto\",\"x\":[0.853306960380281,0.869723141970379,0.8399341350199734,0.8477567097829573,0.8414449122029886,0.799334532091416],\"xaxis\":\"x\",\"y\":[\"Logistic Regression\",\"Random Forest\",\"Decision Tree\",\"Gradient Boosting Tree\",\"Support Vector Machine\",\"Factorization machines\"],\"yaxis\":\"y\",\"type\":\"bar\"},{\"alignmentgroup\":\"True\",\"hovertemplate\":\"variable=recall<br>value=%{x}<br>Model Name=%{y}<extra></extra>\",\"legendgroup\":\"recall\",\"marker\":{\"color\":\"#00cc96\",\"pattern\":{\"shape\":\"\"}},\"name\":\"recall\",\"offsetgroup\":\"recall\",\"orientation\":\"h\",\"showlegend\":true,\"textposition\":\"auto\",\"x\":[0.8473269366472567,0.8742486655091289,0.8740585902428475,0.8584741778715624,0.8075304944294788,0.9184963585156174],\"xaxis\":\"x\",\"y\":[\"Logistic Regression\",\"Random Forest\",\"Decision Tree\",\"Gradient Boosting Tree\",\"Support Vector Machine\",\"Factorization machines\"],\"yaxis\":\"y\",\"type\":\"bar\"},{\"alignmentgroup\":\"True\",\"hovertemplate\":\"variable=precision<br>value=%{x}<br>Model Name=%{y}<extra></extra>\",\"legendgroup\":\"precision\",\"marker\":{\"color\":\"#ab63fa\",\"pattern\":{\"shape\":\"\"}},\"name\":\"precision\",\"offsetgroup\":\"precision\",\"orientation\":\"h\",\"showlegend\":true,\"textposition\":\"auto\",\"x\":[0.8886665095969759,0.8941162119048484,0.8497507944651149,0.8710665668697564,0.9040234900552102,0.7781361799282533],\"xaxis\":\"x\",\"y\":[\"Logistic Regression\",\"Random Forest\",\"Decision Tree\",\"Gradient Boosting Tree\",\"Support Vector Machine\",\"Factorization machines\"],\"yaxis\":\"y\",\"type\":\"bar\"},{\"alignmentgroup\":\"True\",\"hovertemplate\":\"variable=auc<br>value=%{x}<br>Model Name=%{y}<extra></extra>\",\"legendgroup\":\"auc\",\"marker\":{\"color\":\"#FFA15A\",\"pattern\":{\"shape\":\"\"}},\"name\":\"auc\",\"offsetgroup\":\"auc\",\"orientation\":\"h\",\"showlegend\":true,\"textposition\":\"auto\",\"x\":[0.853806530930966,0.8689860281069028,0.8352146416348688,0.846136956439833,0.8473378026407525,0.787201904748111],\"xaxis\":\"x\",\"y\":[\"Logistic Regression\",\"Random Forest\",\"Decision Tree\",\"Gradient Boosting Tree\",\"Support Vector Machine\",\"Factorization machines\"],\"yaxis\":\"y\",\"type\":\"bar\"},{\"alignmentgroup\":\"True\",\"hovertemplate\":\"variable=specifity<br>value=%{x}<br>Model Name=%{y}<extra></extra>\",\"legendgroup\":\"specifity\",\"marker\":{\"color\":\"#19d3f3\",\"pattern\":{\"shape\":\"\"}},\"name\":\"specifity\",\"offsetgroup\":\"specifity\",\"orientation\":\"h\",\"showlegend\":true,\"textposition\":\"auto\",\"x\":[0.8123076923076923,0.8403805496828752,0.8293785310734463,0.8187633262260128,0.7789473684210526,0.8603988603988604],\"xaxis\":\"x\",\"y\":[\"Logistic Regression\",\"Random Forest\",\"Decision Tree\",\"Gradient Boosting Tree\",\"Support Vector Machine\",\"Factorization machines\"],\"yaxis\":\"y\",\"type\":\"bar\"}],                        {\"template\":{\"data\":{\"bar\":[{\"error_x\":{\"color\":\"#2a3f5f\"},\"error_y\":{\"color\":\"#2a3f5f\"},\"marker\":{\"line\":{\"color\":\"#E5ECF6\",\"width\":0.5},\"pattern\":{\"fillmode\":\"overlay\",\"size\":10,\"solidity\":0.2}},\"type\":\"bar\"}],\"barpolar\":[{\"marker\":{\"line\":{\"color\":\"#E5ECF6\",\"width\":0.5},\"pattern\":{\"fillmode\":\"overlay\",\"size\":10,\"solidity\":0.2}},\"type\":\"barpolar\"}],\"carpet\":[{\"aaxis\":{\"endlinecolor\":\"#2a3f5f\",\"gridcolor\":\"white\",\"linecolor\":\"white\",\"minorgridcolor\":\"white\",\"startlinecolor\":\"#2a3f5f\"},\"baxis\":{\"endlinecolor\":\"#2a3f5f\",\"gridcolor\":\"white\",\"linecolor\":\"white\",\"minorgridcolor\":\"white\",\"startlinecolor\":\"#2a3f5f\"},\"type\":\"carpet\"}],\"choropleth\":[{\"colorbar\":{\"outlinewidth\":0,\"ticks\":\"\"},\"type\":\"choropleth\"}],\"contour\":[{\"colorbar\":{\"outlinewidth\":0,\"ticks\":\"\"},\"colorscale\":[[0.0,\"#0d0887\"],[0.1111111111111111,\"#46039f\"],[0.2222222222222222,\"#7201a8\"],[0.3333333333333333,\"#9c179e\"],[0.4444444444444444,\"#bd3786\"],[0.5555555555555556,\"#d8576b\"],[0.6666666666666666,\"#ed7953\"],[0.7777777777777778,\"#fb9f3a\"],[0.8888888888888888,\"#fdca26\"],[1.0,\"#f0f921\"]],\"type\":\"contour\"}],\"contourcarpet\":[{\"colorbar\":{\"outlinewidth\":0,\"ticks\":\"\"},\"type\":\"contourcarpet\"}],\"heatmap\":[{\"colorbar\":{\"outlinewidth\":0,\"ticks\":\"\"},\"colorscale\":[[0.0,\"#0d0887\"],[0.1111111111111111,\"#46039f\"],[0.2222222222222222,\"#7201a8\"],[0.3333333333333333,\"#9c179e\"],[0.4444444444444444,\"#bd3786\"],[0.5555555555555556,\"#d8576b\"],[0.6666666666666666,\"#ed7953\"],[0.7777777777777778,\"#fb9f3a\"],[0.8888888888888888,\"#fdca26\"],[1.0,\"#f0f921\"]],\"type\":\"heatmap\"}],\"heatmapgl\":[{\"colorbar\":{\"outlinewidth\":0,\"ticks\":\"\"},\"colorscale\":[[0.0,\"#0d0887\"],[0.1111111111111111,\"#46039f\"],[0.2222222222222222,\"#7201a8\"],[0.3333333333333333,\"#9c179e\"],[0.4444444444444444,\"#bd3786\"],[0.5555555555555556,\"#d8576b\"],[0.6666666666666666,\"#ed7953\"],[0.7777777777777778,\"#fb9f3a\"],[0.8888888888888888,\"#fdca26\"],[1.0,\"#f0f921\"]],\"type\":\"heatmapgl\"}],\"histogram\":[{\"marker\":{\"pattern\":{\"fillmode\":\"overlay\",\"size\":10,\"solidity\":0.2}},\"type\":\"histogram\"}],\"histogram2d\":[{\"colorbar\":{\"outlinewidth\":0,\"ticks\":\"\"},\"colorscale\":[[0.0,\"#0d0887\"],[0.1111111111111111,\"#46039f\"],[0.2222222222222222,\"#7201a8\"],[0.3333333333333333,\"#9c179e\"],[0.4444444444444444,\"#bd3786\"],[0.5555555555555556,\"#d8576b\"],[0.6666666666666666,\"#ed7953\"],[0.7777777777777778,\"#fb9f3a\"],[0.8888888888888888,\"#fdca26\"],[1.0,\"#f0f921\"]],\"type\":\"histogram2d\"}],\"histogram2dcontour\":[{\"colorbar\":{\"outlinewidth\":0,\"ticks\":\"\"},\"colorscale\":[[0.0,\"#0d0887\"],[0.1111111111111111,\"#46039f\"],[0.2222222222222222,\"#7201a8\"],[0.3333333333333333,\"#9c179e\"],[0.4444444444444444,\"#bd3786\"],[0.5555555555555556,\"#d8576b\"],[0.6666666666666666,\"#ed7953\"],[0.7777777777777778,\"#fb9f3a\"],[0.8888888888888888,\"#fdca26\"],[1.0,\"#f0f921\"]],\"type\":\"histogram2dcontour\"}],\"mesh3d\":[{\"colorbar\":{\"outlinewidth\":0,\"ticks\":\"\"},\"type\":\"mesh3d\"}],\"parcoords\":[{\"line\":{\"colorbar\":{\"outlinewidth\":0,\"ticks\":\"\"}},\"type\":\"parcoords\"}],\"pie\":[{\"automargin\":true,\"type\":\"pie\"}],\"scatter\":[{\"marker\":{\"colorbar\":{\"outlinewidth\":0,\"ticks\":\"\"}},\"type\":\"scatter\"}],\"scatter3d\":[{\"line\":{\"colorbar\":{\"outlinewidth\":0,\"ticks\":\"\"}},\"marker\":{\"colorbar\":{\"outlinewidth\":0,\"ticks\":\"\"}},\"type\":\"scatter3d\"}],\"scattercarpet\":[{\"marker\":{\"colorbar\":{\"outlinewidth\":0,\"ticks\":\"\"}},\"type\":\"scattercarpet\"}],\"scattergeo\":[{\"marker\":{\"colorbar\":{\"outlinewidth\":0,\"ticks\":\"\"}},\"type\":\"scattergeo\"}],\"scattergl\":[{\"marker\":{\"colorbar\":{\"outlinewidth\":0,\"ticks\":\"\"}},\"type\":\"scattergl\"}],\"scattermapbox\":[{\"marker\":{\"colorbar\":{\"outlinewidth\":0,\"ticks\":\"\"}},\"type\":\"scattermapbox\"}],\"scatterpolar\":[{\"marker\":{\"colorbar\":{\"outlinewidth\":0,\"ticks\":\"\"}},\"type\":\"scatterpolar\"}],\"scatterpolargl\":[{\"marker\":{\"colorbar\":{\"outlinewidth\":0,\"ticks\":\"\"}},\"type\":\"scatterpolargl\"}],\"scatterternary\":[{\"marker\":{\"colorbar\":{\"outlinewidth\":0,\"ticks\":\"\"}},\"type\":\"scatterternary\"}],\"surface\":[{\"colorbar\":{\"outlinewidth\":0,\"ticks\":\"\"},\"colorscale\":[[0.0,\"#0d0887\"],[0.1111111111111111,\"#46039f\"],[0.2222222222222222,\"#7201a8\"],[0.3333333333333333,\"#9c179e\"],[0.4444444444444444,\"#bd3786\"],[0.5555555555555556,\"#d8576b\"],[0.6666666666666666,\"#ed7953\"],[0.7777777777777778,\"#fb9f3a\"],[0.8888888888888888,\"#fdca26\"],[1.0,\"#f0f921\"]],\"type\":\"surface\"}],\"table\":[{\"cells\":{\"fill\":{\"color\":\"#EBF0F8\"},\"line\":{\"color\":\"white\"}},\"header\":{\"fill\":{\"color\":\"#C8D4E3\"},\"line\":{\"color\":\"white\"}},\"type\":\"table\"}]},\"layout\":{\"annotationdefaults\":{\"arrowcolor\":\"#2a3f5f\",\"arrowhead\":0,\"arrowwidth\":1},\"autotypenumbers\":\"strict\",\"coloraxis\":{\"colorbar\":{\"outlinewidth\":0,\"ticks\":\"\"}},\"colorscale\":{\"diverging\":[[0,\"#8e0152\"],[0.1,\"#c51b7d\"],[0.2,\"#de77ae\"],[0.3,\"#f1b6da\"],[0.4,\"#fde0ef\"],[0.5,\"#f7f7f7\"],[0.6,\"#e6f5d0\"],[0.7,\"#b8e186\"],[0.8,\"#7fbc41\"],[0.9,\"#4d9221\"],[1,\"#276419\"]],\"sequential\":[[0.0,\"#0d0887\"],[0.1111111111111111,\"#46039f\"],[0.2222222222222222,\"#7201a8\"],[0.3333333333333333,\"#9c179e\"],[0.4444444444444444,\"#bd3786\"],[0.5555555555555556,\"#d8576b\"],[0.6666666666666666,\"#ed7953\"],[0.7777777777777778,\"#fb9f3a\"],[0.8888888888888888,\"#fdca26\"],[1.0,\"#f0f921\"]],\"sequentialminus\":[[0.0,\"#0d0887\"],[0.1111111111111111,\"#46039f\"],[0.2222222222222222,\"#7201a8\"],[0.3333333333333333,\"#9c179e\"],[0.4444444444444444,\"#bd3786\"],[0.5555555555555556,\"#d8576b\"],[0.6666666666666666,\"#ed7953\"],[0.7777777777777778,\"#fb9f3a\"],[0.8888888888888888,\"#fdca26\"],[1.0,\"#f0f921\"]]},\"colorway\":[\"#636efa\",\"#EF553B\",\"#00cc96\",\"#ab63fa\",\"#FFA15A\",\"#19d3f3\",\"#FF6692\",\"#B6E880\",\"#FF97FF\",\"#FECB52\"],\"font\":{\"color\":\"#2a3f5f\"},\"geo\":{\"bgcolor\":\"white\",\"lakecolor\":\"white\",\"landcolor\":\"#E5ECF6\",\"showlakes\":true,\"showland\":true,\"subunitcolor\":\"white\"},\"hoverlabel\":{\"align\":\"left\"},\"hovermode\":\"closest\",\"mapbox\":{\"style\":\"light\"},\"paper_bgcolor\":\"white\",\"plot_bgcolor\":\"#E5ECF6\",\"polar\":{\"angularaxis\":{\"gridcolor\":\"white\",\"linecolor\":\"white\",\"ticks\":\"\"},\"bgcolor\":\"#E5ECF6\",\"radialaxis\":{\"gridcolor\":\"white\",\"linecolor\":\"white\",\"ticks\":\"\"}},\"scene\":{\"xaxis\":{\"backgroundcolor\":\"#E5ECF6\",\"gridcolor\":\"white\",\"gridwidth\":2,\"linecolor\":\"white\",\"showbackground\":true,\"ticks\":\"\",\"zerolinecolor\":\"white\"},\"yaxis\":{\"backgroundcolor\":\"#E5ECF6\",\"gridcolor\":\"white\",\"gridwidth\":2,\"linecolor\":\"white\",\"showbackground\":true,\"ticks\":\"\",\"zerolinecolor\":\"white\"},\"zaxis\":{\"backgroundcolor\":\"#E5ECF6\",\"gridcolor\":\"white\",\"gridwidth\":2,\"linecolor\":\"white\",\"showbackground\":true,\"ticks\":\"\",\"zerolinecolor\":\"white\"}},\"shapedefaults\":{\"line\":{\"color\":\"#2a3f5f\"}},\"ternary\":{\"aaxis\":{\"gridcolor\":\"white\",\"linecolor\":\"white\",\"ticks\":\"\"},\"baxis\":{\"gridcolor\":\"white\",\"linecolor\":\"white\",\"ticks\":\"\"},\"bgcolor\":\"#E5ECF6\",\"caxis\":{\"gridcolor\":\"white\",\"linecolor\":\"white\",\"ticks\":\"\"}},\"title\":{\"x\":0.05},\"xaxis\":{\"automargin\":true,\"gridcolor\":\"white\",\"linecolor\":\"white\",\"ticks\":\"\",\"title\":{\"standoff\":15},\"zerolinecolor\":\"white\",\"zerolinewidth\":2},\"yaxis\":{\"automargin\":true,\"gridcolor\":\"white\",\"linecolor\":\"white\",\"ticks\":\"\",\"title\":{\"standoff\":15},\"zerolinecolor\":\"white\",\"zerolinewidth\":2}}},\"xaxis\":{\"anchor\":\"y\",\"domain\":[0.0,1.0],\"title\":{\"text\":\"value\"}},\"yaxis\":{\"anchor\":\"x\",\"domain\":[0.0,1.0],\"title\":{\"text\":\"Model Name\"}},\"legend\":{\"title\":{\"text\":\"variable\"},\"tracegroupgap\":0},\"margin\":{\"t\":60},\"barmode\":\"relative\"},                        {\"responsive\": true}                    )                };                            </script>        </div>\n",
       "</body>\n",
       "</html>"
      ]
     },
     "metadata": {
      "application/vnd.databricks.v1+output": {
       "addedWidgets": {},
       "arguments": {},
       "data": "<html>\n<head><meta charset=\"utf-8\" /></head>\n<body>\n    <div>            <script src=\"https://cdnjs.cloudflare.com/ajax/libs/mathjax/2.7.5/MathJax.js?config=TeX-AMS-MML_SVG\"></script><script type=\"text/javascript\">if (window.MathJax) {MathJax.Hub.Config({SVG: {font: \"STIX-Web\"}});}</script>                <script type=\"text/javascript\">window.PlotlyConfig = {MathJaxConfig: 'local'};</script>\n        <script src=\"https://cdn.plot.ly/plotly-2.9.0.min.js\"></script>                <div id=\"5657c7ed-31f0-415f-8ed7-c3086aba907a\" class=\"plotly-graph-div\" style=\"height:100%; width:100%;\"></div>            <script type=\"text/javascript\">                                    window.PLOTLYENV=window.PLOTLYENV || {};                                    if (document.getElementById(\"5657c7ed-31f0-415f-8ed7-c3086aba907a\")) {                    Plotly.newPlot(                        \"5657c7ed-31f0-415f-8ed7-c3086aba907a\",                        [{\"alignmentgroup\":\"True\",\"hovertemplate\":\"variable=acc<br>value=%{x}<br>Model Name=%{y}<extra></extra>\",\"legendgroup\":\"acc\",\"marker\":{\"color\":\"#636efa\",\"pattern\":{\"shape\":\"\"}},\"name\":\"acc\",\"offsetgroup\":\"acc\",\"orientation\":\"h\",\"showlegend\":true,\"textposition\":\"auto\",\"x\":[0.8529977691806643,0.8695994213178062,0.840518109360868,0.8476368464601315,0.8409213488017867,0.8047167418541552],\"xaxis\":\"x\",\"y\":[\"Logistic Regression\",\"Random Forest\",\"Decision Tree\",\"Gradient Boosting Tree\",\"Support Vector Machine\",\"Factorization machines\"],\"yaxis\":\"y\",\"type\":\"bar\"},{\"alignmentgroup\":\"True\",\"hovertemplate\":\"variable=f1<br>value=%{x}<br>Model Name=%{y}<extra></extra>\",\"legendgroup\":\"f1\",\"marker\":{\"color\":\"#EF553B\",\"pattern\":{\"shape\":\"\"}},\"name\":\"f1\",\"offsetgroup\":\"f1\",\"orientation\":\"h\",\"showlegend\":true,\"textposition\":\"auto\",\"x\":[0.853306960380281,0.869723141970379,0.8399341350199734,0.8477567097829573,0.8414449122029886,0.799334532091416],\"xaxis\":\"x\",\"y\":[\"Logistic Regression\",\"Random Forest\",\"Decision Tree\",\"Gradient Boosting Tree\",\"Support Vector Machine\",\"Factorization machines\"],\"yaxis\":\"y\",\"type\":\"bar\"},{\"alignmentgroup\":\"True\",\"hovertemplate\":\"variable=recall<br>value=%{x}<br>Model Name=%{y}<extra></extra>\",\"legendgroup\":\"recall\",\"marker\":{\"color\":\"#00cc96\",\"pattern\":{\"shape\":\"\"}},\"name\":\"recall\",\"offsetgroup\":\"recall\",\"orientation\":\"h\",\"showlegend\":true,\"textposition\":\"auto\",\"x\":[0.8473269366472567,0.8742486655091289,0.8740585902428475,0.8584741778715624,0.8075304944294788,0.9184963585156174],\"xaxis\":\"x\",\"y\":[\"Logistic Regression\",\"Random Forest\",\"Decision Tree\",\"Gradient Boosting Tree\",\"Support Vector Machine\",\"Factorization machines\"],\"yaxis\":\"y\",\"type\":\"bar\"},{\"alignmentgroup\":\"True\",\"hovertemplate\":\"variable=precision<br>value=%{x}<br>Model Name=%{y}<extra></extra>\",\"legendgroup\":\"precision\",\"marker\":{\"color\":\"#ab63fa\",\"pattern\":{\"shape\":\"\"}},\"name\":\"precision\",\"offsetgroup\":\"precision\",\"orientation\":\"h\",\"showlegend\":true,\"textposition\":\"auto\",\"x\":[0.8886665095969759,0.8941162119048484,0.8497507944651149,0.8710665668697564,0.9040234900552102,0.7781361799282533],\"xaxis\":\"x\",\"y\":[\"Logistic Regression\",\"Random Forest\",\"Decision Tree\",\"Gradient Boosting Tree\",\"Support Vector Machine\",\"Factorization machines\"],\"yaxis\":\"y\",\"type\":\"bar\"},{\"alignmentgroup\":\"True\",\"hovertemplate\":\"variable=auc<br>value=%{x}<br>Model Name=%{y}<extra></extra>\",\"legendgroup\":\"auc\",\"marker\":{\"color\":\"#FFA15A\",\"pattern\":{\"shape\":\"\"}},\"name\":\"auc\",\"offsetgroup\":\"auc\",\"orientation\":\"h\",\"showlegend\":true,\"textposition\":\"auto\",\"x\":[0.853806530930966,0.8689860281069028,0.8352146416348688,0.846136956439833,0.8473378026407525,0.787201904748111],\"xaxis\":\"x\",\"y\":[\"Logistic Regression\",\"Random Forest\",\"Decision Tree\",\"Gradient Boosting Tree\",\"Support Vector Machine\",\"Factorization machines\"],\"yaxis\":\"y\",\"type\":\"bar\"},{\"alignmentgroup\":\"True\",\"hovertemplate\":\"variable=specifity<br>value=%{x}<br>Model Name=%{y}<extra></extra>\",\"legendgroup\":\"specifity\",\"marker\":{\"color\":\"#19d3f3\",\"pattern\":{\"shape\":\"\"}},\"name\":\"specifity\",\"offsetgroup\":\"specifity\",\"orientation\":\"h\",\"showlegend\":true,\"textposition\":\"auto\",\"x\":[0.8123076923076923,0.8403805496828752,0.8293785310734463,0.8187633262260128,0.7789473684210526,0.8603988603988604],\"xaxis\":\"x\",\"y\":[\"Logistic Regression\",\"Random Forest\",\"Decision Tree\",\"Gradient Boosting Tree\",\"Support Vector Machine\",\"Factorization machines\"],\"yaxis\":\"y\",\"type\":\"bar\"}],                        {\"template\":{\"data\":{\"bar\":[{\"error_x\":{\"color\":\"#2a3f5f\"},\"error_y\":{\"color\":\"#2a3f5f\"},\"marker\":{\"line\":{\"color\":\"#E5ECF6\",\"width\":0.5},\"pattern\":{\"fillmode\":\"overlay\",\"size\":10,\"solidity\":0.2}},\"type\":\"bar\"}],\"barpolar\":[{\"marker\":{\"line\":{\"color\":\"#E5ECF6\",\"width\":0.5},\"pattern\":{\"fillmode\":\"overlay\",\"size\":10,\"solidity\":0.2}},\"type\":\"barpolar\"}],\"carpet\":[{\"aaxis\":{\"endlinecolor\":\"#2a3f5f\",\"gridcolor\":\"white\",\"linecolor\":\"white\",\"minorgridcolor\":\"white\",\"startlinecolor\":\"#2a3f5f\"},\"baxis\":{\"endlinecolor\":\"#2a3f5f\",\"gridcolor\":\"white\",\"linecolor\":\"white\",\"minorgridcolor\":\"white\",\"startlinecolor\":\"#2a3f5f\"},\"type\":\"carpet\"}],\"choropleth\":[{\"colorbar\":{\"outlinewidth\":0,\"ticks\":\"\"},\"type\":\"choropleth\"}],\"contour\":[{\"colorbar\":{\"outlinewidth\":0,\"ticks\":\"\"},\"colorscale\":[[0.0,\"#0d0887\"],[0.1111111111111111,\"#46039f\"],[0.2222222222222222,\"#7201a8\"],[0.3333333333333333,\"#9c179e\"],[0.4444444444444444,\"#bd3786\"],[0.5555555555555556,\"#d8576b\"],[0.6666666666666666,\"#ed7953\"],[0.7777777777777778,\"#fb9f3a\"],[0.8888888888888888,\"#fdca26\"],[1.0,\"#f0f921\"]],\"type\":\"contour\"}],\"contourcarpet\":[{\"colorbar\":{\"outlinewidth\":0,\"ticks\":\"\"},\"type\":\"contourcarpet\"}],\"heatmap\":[{\"colorbar\":{\"outlinewidth\":0,\"ticks\":\"\"},\"colorscale\":[[0.0,\"#0d0887\"],[0.1111111111111111,\"#46039f\"],[0.2222222222222222,\"#7201a8\"],[0.3333333333333333,\"#9c179e\"],[0.4444444444444444,\"#bd3786\"],[0.5555555555555556,\"#d8576b\"],[0.6666666666666666,\"#ed7953\"],[0.7777777777777778,\"#fb9f3a\"],[0.8888888888888888,\"#fdca26\"],[1.0,\"#f0f921\"]],\"type\":\"heatmap\"}],\"heatmapgl\":[{\"colorbar\":{\"outlinewidth\":0,\"ticks\":\"\"},\"colorscale\":[[0.0,\"#0d0887\"],[0.1111111111111111,\"#46039f\"],[0.2222222222222222,\"#7201a8\"],[0.3333333333333333,\"#9c179e\"],[0.4444444444444444,\"#bd3786\"],[0.5555555555555556,\"#d8576b\"],[0.6666666666666666,\"#ed7953\"],[0.7777777777777778,\"#fb9f3a\"],[0.8888888888888888,\"#fdca26\"],[1.0,\"#f0f921\"]],\"type\":\"heatmapgl\"}],\"histogram\":[{\"marker\":{\"pattern\":{\"fillmode\":\"overlay\",\"size\":10,\"solidity\":0.2}},\"type\":\"histogram\"}],\"histogram2d\":[{\"colorbar\":{\"outlinewidth\":0,\"ticks\":\"\"},\"colorscale\":[[0.0,\"#0d0887\"],[0.1111111111111111,\"#46039f\"],[0.2222222222222222,\"#7201a8\"],[0.3333333333333333,\"#9c179e\"],[0.4444444444444444,\"#bd3786\"],[0.5555555555555556,\"#d8576b\"],[0.6666666666666666,\"#ed7953\"],[0.7777777777777778,\"#fb9f3a\"],[0.8888888888888888,\"#fdca26\"],[1.0,\"#f0f921\"]],\"type\":\"histogram2d\"}],\"histogram2dcontour\":[{\"colorbar\":{\"outlinewidth\":0,\"ticks\":\"\"},\"colorscale\":[[0.0,\"#0d0887\"],[0.1111111111111111,\"#46039f\"],[0.2222222222222222,\"#7201a8\"],[0.3333333333333333,\"#9c179e\"],[0.4444444444444444,\"#bd3786\"],[0.5555555555555556,\"#d8576b\"],[0.6666666666666666,\"#ed7953\"],[0.7777777777777778,\"#fb9f3a\"],[0.8888888888888888,\"#fdca26\"],[1.0,\"#f0f921\"]],\"type\":\"histogram2dcontour\"}],\"mesh3d\":[{\"colorbar\":{\"outlinewidth\":0,\"ticks\":\"\"},\"type\":\"mesh3d\"}],\"parcoords\":[{\"line\":{\"colorbar\":{\"outlinewidth\":0,\"ticks\":\"\"}},\"type\":\"parcoords\"}],\"pie\":[{\"automargin\":true,\"type\":\"pie\"}],\"scatter\":[{\"marker\":{\"colorbar\":{\"outlinewidth\":0,\"ticks\":\"\"}},\"type\":\"scatter\"}],\"scatter3d\":[{\"line\":{\"colorbar\":{\"outlinewidth\":0,\"ticks\":\"\"}},\"marker\":{\"colorbar\":{\"outlinewidth\":0,\"ticks\":\"\"}},\"type\":\"scatter3d\"}],\"scattercarpet\":[{\"marker\":{\"colorbar\":{\"outlinewidth\":0,\"ticks\":\"\"}},\"type\":\"scattercarpet\"}],\"scattergeo\":[{\"marker\":{\"colorbar\":{\"outlinewidth\":0,\"ticks\":\"\"}},\"type\":\"scattergeo\"}],\"scattergl\":[{\"marker\":{\"colorbar\":{\"outlinewidth\":0,\"ticks\":\"\"}},\"type\":\"scattergl\"}],\"scattermapbox\":[{\"marker\":{\"colorbar\":{\"outlinewidth\":0,\"ticks\":\"\"}},\"type\":\"scattermapbox\"}],\"scatterpolar\":[{\"marker\":{\"colorbar\":{\"outlinewidth\":0,\"ticks\":\"\"}},\"type\":\"scatterpolar\"}],\"scatterpolargl\":[{\"marker\":{\"colorbar\":{\"outlinewidth\":0,\"ticks\":\"\"}},\"type\":\"scatterpolargl\"}],\"scatterternary\":[{\"marker\":{\"colorbar\":{\"outlinewidth\":0,\"ticks\":\"\"}},\"type\":\"scatterternary\"}],\"surface\":[{\"colorbar\":{\"outlinewidth\":0,\"ticks\":\"\"},\"colorscale\":[[0.0,\"#0d0887\"],[0.1111111111111111,\"#46039f\"],[0.2222222222222222,\"#7201a8\"],[0.3333333333333333,\"#9c179e\"],[0.4444444444444444,\"#bd3786\"],[0.5555555555555556,\"#d8576b\"],[0.6666666666666666,\"#ed7953\"],[0.7777777777777778,\"#fb9f3a\"],[0.8888888888888888,\"#fdca26\"],[1.0,\"#f0f921\"]],\"type\":\"surface\"}],\"table\":[{\"cells\":{\"fill\":{\"color\":\"#EBF0F8\"},\"line\":{\"color\":\"white\"}},\"header\":{\"fill\":{\"color\":\"#C8D4E3\"},\"line\":{\"color\":\"white\"}},\"type\":\"table\"}]},\"layout\":{\"annotationdefaults\":{\"arrowcolor\":\"#2a3f5f\",\"arrowhead\":0,\"arrowwidth\":1},\"autotypenumbers\":\"strict\",\"coloraxis\":{\"colorbar\":{\"outlinewidth\":0,\"ticks\":\"\"}},\"colorscale\":{\"diverging\":[[0,\"#8e0152\"],[0.1,\"#c51b7d\"],[0.2,\"#de77ae\"],[0.3,\"#f1b6da\"],[0.4,\"#fde0ef\"],[0.5,\"#f7f7f7\"],[0.6,\"#e6f5d0\"],[0.7,\"#b8e186\"],[0.8,\"#7fbc41\"],[0.9,\"#4d9221\"],[1,\"#276419\"]],\"sequential\":[[0.0,\"#0d0887\"],[0.1111111111111111,\"#46039f\"],[0.2222222222222222,\"#7201a8\"],[0.3333333333333333,\"#9c179e\"],[0.4444444444444444,\"#bd3786\"],[0.5555555555555556,\"#d8576b\"],[0.6666666666666666,\"#ed7953\"],[0.7777777777777778,\"#fb9f3a\"],[0.8888888888888888,\"#fdca26\"],[1.0,\"#f0f921\"]],\"sequentialminus\":[[0.0,\"#0d0887\"],[0.1111111111111111,\"#46039f\"],[0.2222222222222222,\"#7201a8\"],[0.3333333333333333,\"#9c179e\"],[0.4444444444444444,\"#bd3786\"],[0.5555555555555556,\"#d8576b\"],[0.6666666666666666,\"#ed7953\"],[0.7777777777777778,\"#fb9f3a\"],[0.8888888888888888,\"#fdca26\"],[1.0,\"#f0f921\"]]},\"colorway\":[\"#636efa\",\"#EF553B\",\"#00cc96\",\"#ab63fa\",\"#FFA15A\",\"#19d3f3\",\"#FF6692\",\"#B6E880\",\"#FF97FF\",\"#FECB52\"],\"font\":{\"color\":\"#2a3f5f\"},\"geo\":{\"bgcolor\":\"white\",\"lakecolor\":\"white\",\"landcolor\":\"#E5ECF6\",\"showlakes\":true,\"showland\":true,\"subunitcolor\":\"white\"},\"hoverlabel\":{\"align\":\"left\"},\"hovermode\":\"closest\",\"mapbox\":{\"style\":\"light\"},\"paper_bgcolor\":\"white\",\"plot_bgcolor\":\"#E5ECF6\",\"polar\":{\"angularaxis\":{\"gridcolor\":\"white\",\"linecolor\":\"white\",\"ticks\":\"\"},\"bgcolor\":\"#E5ECF6\",\"radialaxis\":{\"gridcolor\":\"white\",\"linecolor\":\"white\",\"ticks\":\"\"}},\"scene\":{\"xaxis\":{\"backgroundcolor\":\"#E5ECF6\",\"gridcolor\":\"white\",\"gridwidth\":2,\"linecolor\":\"white\",\"showbackground\":true,\"ticks\":\"\",\"zerolinecolor\":\"white\"},\"yaxis\":{\"backgroundcolor\":\"#E5ECF6\",\"gridcolor\":\"white\",\"gridwidth\":2,\"linecolor\":\"white\",\"showbackground\":true,\"ticks\":\"\",\"zerolinecolor\":\"white\"},\"zaxis\":{\"backgroundcolor\":\"#E5ECF6\",\"gridcolor\":\"white\",\"gridwidth\":2,\"linecolor\":\"white\",\"showbackground\":true,\"ticks\":\"\",\"zerolinecolor\":\"white\"}},\"shapedefaults\":{\"line\":{\"color\":\"#2a3f5f\"}},\"ternary\":{\"aaxis\":{\"gridcolor\":\"white\",\"linecolor\":\"white\",\"ticks\":\"\"},\"baxis\":{\"gridcolor\":\"white\",\"linecolor\":\"white\",\"ticks\":\"\"},\"bgcolor\":\"#E5ECF6\",\"caxis\":{\"gridcolor\":\"white\",\"linecolor\":\"white\",\"ticks\":\"\"}},\"title\":{\"x\":0.05},\"xaxis\":{\"automargin\":true,\"gridcolor\":\"white\",\"linecolor\":\"white\",\"ticks\":\"\",\"title\":{\"standoff\":15},\"zerolinecolor\":\"white\",\"zerolinewidth\":2},\"yaxis\":{\"automargin\":true,\"gridcolor\":\"white\",\"linecolor\":\"white\",\"ticks\":\"\",\"title\":{\"standoff\":15},\"zerolinecolor\":\"white\",\"zerolinewidth\":2}}},\"xaxis\":{\"anchor\":\"y\",\"domain\":[0.0,1.0],\"title\":{\"text\":\"value\"}},\"yaxis\":{\"anchor\":\"x\",\"domain\":[0.0,1.0],\"title\":{\"text\":\"Model Name\"}},\"legend\":{\"title\":{\"text\":\"variable\"},\"tracegroupgap\":0},\"margin\":{\"t\":60},\"barmode\":\"relative\"},                        {\"responsive\": true}                    )                };                            </script>        </div>\n</body>\n</html>",
       "datasetInfos": [],
       "metadata": {},
       "removedWidgets": [],
       "textData": null,
       "type": "htmlSandbox"
      }
     },
     "output_type": "display_data"
    }
   ],
   "source": [
    "models_df.plot.bar(x=[\"acc\",\"f1\",\"recall\",\"precision\",\"auc\",\"specifity\"])"
   ]
  },
  {
   "cell_type": "markdown",
   "metadata": {
    "application/vnd.databricks.v1+cell": {
     "cellMetadata": {},
     "inputWidgets": {},
     "nuid": "73687bab-eee6-4115-b3a2-e5ceccf1a966",
     "showTitle": false,
     "title": ""
    }
   },
   "source": [
    "### כעת נראה איזה משקל יש לכל מאפיין להחלטה האם הלקוח מאושר או לא לקבל הרשאת אשראי\n",
    "### המשקל נלקח מהמודל אותו בחרנו כמתאים ביותר - Random Forest"
   ]
  },
  {
   "cell_type": "code",
   "execution_count": 0,
   "metadata": {
    "application/vnd.databricks.v1+cell": {
     "cellMetadata": {
      "byteLimit": 2048000,
      "rowLimit": 10000
     },
     "inputWidgets": {},
     "nuid": "1c762daf-c37a-4477-b381-d3e0bceb3519",
     "showTitle": false,
     "title": ""
    }
   },
   "outputs": [],
   "source": [
    "# save attributes as a DF\n",
    "attr_df = pd.DataFrame(results_rf.schema[\"features\"].metadata[\"ml_attr\"][\"attrs\"][\"numeric\"]+results_rf.schema[\"features\"].metadata[\"ml_attr\"][\"attrs\"][\"binary\"])\n",
    "\n",
    "# save importance in a list\n",
    "importances = fit_model_rf.stages[7].featureImportances\n",
    "attr_importances = []\n",
    "for i in range(len(importances)):\n",
    "    attr_importances.append(importances[i])"
   ]
  },
  {
   "cell_type": "code",
   "execution_count": 0,
   "metadata": {
    "application/vnd.databricks.v1+cell": {
     "cellMetadata": {
      "byteLimit": 2048000,
      "rowLimit": 10000
     },
     "inputWidgets": {},
     "nuid": "58da5842-3c61-4d8e-89da-d2d3730154ba",
     "showTitle": false,
     "title": ""
    }
   },
   "outputs": [],
   "source": [
    "# convert importance into a DF\n",
    "importance_df = pd.DataFrame(attr_importances)\n",
    "importance_df_final = importance_df.rename(columns={0:\"importance\"})\n",
    "\n",
    "#rename attribute's column name\n",
    "attr_df_bk = pd.DataFrame(attr_df['name'])\n",
    "\n",
    "#concat both importance and attribute's DF, also sort in ascending way\n",
    "importance_plot = pd.concat([importance_df_final,attr_df_bk],axis=1)\n",
    "importance_plot = importance_plot.sort_values('importance',ascending=False)"
   ]
  },
  {
   "cell_type": "code",
   "execution_count": 0,
   "metadata": {
    "application/vnd.databricks.v1+cell": {
     "cellMetadata": {
      "byteLimit": 2048000,
      "rowLimit": 10000
     },
     "inputWidgets": {},
     "nuid": "fd22ee5b-4f61-4fa1-a109-8716a9d8223f",
     "showTitle": false,
     "title": ""
    }
   },
   "outputs": [
    {
     "output_type": "display_data",
     "data": {
      "text/html": [
       "<html>\n",
       "<head><meta charset=\"utf-8\" /></head>\n",
       "<body>\n",
       "    <div>            <script src=\"https://cdnjs.cloudflare.com/ajax/libs/mathjax/2.7.5/MathJax.js?config=TeX-AMS-MML_SVG\"></script><script type=\"text/javascript\">if (window.MathJax) {MathJax.Hub.Config({SVG: {font: \"STIX-Web\"}});}</script>                <script type=\"text/javascript\">window.PlotlyConfig = {MathJaxConfig: 'local'};</script>\n",
       "        <script src=\"https://cdn.plot.ly/plotly-2.9.0.min.js\"></script>                <div id=\"85e115cd-c799-4cb5-a609-f4d1962135aa\" class=\"plotly-graph-div\" style=\"height:100%; width:100%;\"></div>            <script type=\"text/javascript\">                                    window.PLOTLYENV=window.PLOTLYENV || {};                                    if (document.getElementById(\"85e115cd-c799-4cb5-a609-f4d1962135aa\")) {                    Plotly.newPlot(                        \"85e115cd-c799-4cb5-a609-f4d1962135aa\",                        [{\"alignmentgroup\":\"True\",\"hovertemplate\":\"name=%{x}<br>importance=%{y}<extra></extra>\",\"legendgroup\":\"\",\"marker\":{\"color\":\"#636efa\",\"pattern\":{\"shape\":\"\"}},\"name\":\"\",\"offsetgroup\":\"\",\"orientation\":\"v\",\"showlegend\":false,\"textposition\":\"auto\",\"x\":[\"PriorDefault\",\"Employed\",\"YearsEmployed\",\"CreditScore\",\"Income\",\"Debt\",\"Age\",\"ZipCode\",\"Married\",\"EthnicityVec_Black\",\"EthnicityVec_Latino\",\"BankCustomer\",\"IndustryVec_Financials\",\"IndustryVec_Utilities\",\"Gender\",\"IndustryVec_Industrials\",\"DriversLicense\",\"IndustryVec_Healthcare\",\"IndustryVec_Energy\",\"EthnicityVec_White\",\"CitizenVec_ByBirth\",\"IndustryVec_Education\",\"IndustryVec_ConsumerStaples\",\"CitizenVec_ByOtherMeans\",\"IndustryVec_Materials\",\"IndustryVec_ConsumerDiscretionary\",\"IndustryVec_CommunicationServices\",\"EthnicityVec_Asian\",\"IndustryVec_InformationTechnology\",\"IndustryVec_Research\",\"IndustryVec_Real Estate\"],\"xaxis\":\"x\",\"y\":[0.4262863551330865,0.09331229879053819,0.09267548389640276,0.07513846080570395,0.05910421972963063,0.05725524627914709,0.03827297602671219,0.033966917040141306,0.021583188333519066,0.014273782811793579,0.010038628525522977,0.008676486084175521,0.008644822793507752,0.0086049746294555,0.007331703629481134,0.0061840875409904395,0.0059957098123795665,0.005754554962011835,0.0052731566898221805,0.003940282621396805,0.0038562022836607446,0.003594815800115283,0.0032176648467711136,0.0025032327201067474,0.001362368801646431,0.0012357247232853902,0.0010009391052512525,0.0006856621378187726,0.00019485436506260105,3.519908086273998e-05,0.0],\"yaxis\":\"y\",\"type\":\"bar\"}],                        {\"template\":{\"data\":{\"bar\":[{\"error_x\":{\"color\":\"#2a3f5f\"},\"error_y\":{\"color\":\"#2a3f5f\"},\"marker\":{\"line\":{\"color\":\"#E5ECF6\",\"width\":0.5},\"pattern\":{\"fillmode\":\"overlay\",\"size\":10,\"solidity\":0.2}},\"type\":\"bar\"}],\"barpolar\":[{\"marker\":{\"line\":{\"color\":\"#E5ECF6\",\"width\":0.5},\"pattern\":{\"fillmode\":\"overlay\",\"size\":10,\"solidity\":0.2}},\"type\":\"barpolar\"}],\"carpet\":[{\"aaxis\":{\"endlinecolor\":\"#2a3f5f\",\"gridcolor\":\"white\",\"linecolor\":\"white\",\"minorgridcolor\":\"white\",\"startlinecolor\":\"#2a3f5f\"},\"baxis\":{\"endlinecolor\":\"#2a3f5f\",\"gridcolor\":\"white\",\"linecolor\":\"white\",\"minorgridcolor\":\"white\",\"startlinecolor\":\"#2a3f5f\"},\"type\":\"carpet\"}],\"choropleth\":[{\"colorbar\":{\"outlinewidth\":0,\"ticks\":\"\"},\"type\":\"choropleth\"}],\"contour\":[{\"colorbar\":{\"outlinewidth\":0,\"ticks\":\"\"},\"colorscale\":[[0.0,\"#0d0887\"],[0.1111111111111111,\"#46039f\"],[0.2222222222222222,\"#7201a8\"],[0.3333333333333333,\"#9c179e\"],[0.4444444444444444,\"#bd3786\"],[0.5555555555555556,\"#d8576b\"],[0.6666666666666666,\"#ed7953\"],[0.7777777777777778,\"#fb9f3a\"],[0.8888888888888888,\"#fdca26\"],[1.0,\"#f0f921\"]],\"type\":\"contour\"}],\"contourcarpet\":[{\"colorbar\":{\"outlinewidth\":0,\"ticks\":\"\"},\"type\":\"contourcarpet\"}],\"heatmap\":[{\"colorbar\":{\"outlinewidth\":0,\"ticks\":\"\"},\"colorscale\":[[0.0,\"#0d0887\"],[0.1111111111111111,\"#46039f\"],[0.2222222222222222,\"#7201a8\"],[0.3333333333333333,\"#9c179e\"],[0.4444444444444444,\"#bd3786\"],[0.5555555555555556,\"#d8576b\"],[0.6666666666666666,\"#ed7953\"],[0.7777777777777778,\"#fb9f3a\"],[0.8888888888888888,\"#fdca26\"],[1.0,\"#f0f921\"]],\"type\":\"heatmap\"}],\"heatmapgl\":[{\"colorbar\":{\"outlinewidth\":0,\"ticks\":\"\"},\"colorscale\":[[0.0,\"#0d0887\"],[0.1111111111111111,\"#46039f\"],[0.2222222222222222,\"#7201a8\"],[0.3333333333333333,\"#9c179e\"],[0.4444444444444444,\"#bd3786\"],[0.5555555555555556,\"#d8576b\"],[0.6666666666666666,\"#ed7953\"],[0.7777777777777778,\"#fb9f3a\"],[0.8888888888888888,\"#fdca26\"],[1.0,\"#f0f921\"]],\"type\":\"heatmapgl\"}],\"histogram\":[{\"marker\":{\"pattern\":{\"fillmode\":\"overlay\",\"size\":10,\"solidity\":0.2}},\"type\":\"histogram\"}],\"histogram2d\":[{\"colorbar\":{\"outlinewidth\":0,\"ticks\":\"\"},\"colorscale\":[[0.0,\"#0d0887\"],[0.1111111111111111,\"#46039f\"],[0.2222222222222222,\"#7201a8\"],[0.3333333333333333,\"#9c179e\"],[0.4444444444444444,\"#bd3786\"],[0.5555555555555556,\"#d8576b\"],[0.6666666666666666,\"#ed7953\"],[0.7777777777777778,\"#fb9f3a\"],[0.8888888888888888,\"#fdca26\"],[1.0,\"#f0f921\"]],\"type\":\"histogram2d\"}],\"histogram2dcontour\":[{\"colorbar\":{\"outlinewidth\":0,\"ticks\":\"\"},\"colorscale\":[[0.0,\"#0d0887\"],[0.1111111111111111,\"#46039f\"],[0.2222222222222222,\"#7201a8\"],[0.3333333333333333,\"#9c179e\"],[0.4444444444444444,\"#bd3786\"],[0.5555555555555556,\"#d8576b\"],[0.6666666666666666,\"#ed7953\"],[0.7777777777777778,\"#fb9f3a\"],[0.8888888888888888,\"#fdca26\"],[1.0,\"#f0f921\"]],\"type\":\"histogram2dcontour\"}],\"mesh3d\":[{\"colorbar\":{\"outlinewidth\":0,\"ticks\":\"\"},\"type\":\"mesh3d\"}],\"parcoords\":[{\"line\":{\"colorbar\":{\"outlinewidth\":0,\"ticks\":\"\"}},\"type\":\"parcoords\"}],\"pie\":[{\"automargin\":true,\"type\":\"pie\"}],\"scatter\":[{\"marker\":{\"colorbar\":{\"outlinewidth\":0,\"ticks\":\"\"}},\"type\":\"scatter\"}],\"scatter3d\":[{\"line\":{\"colorbar\":{\"outlinewidth\":0,\"ticks\":\"\"}},\"marker\":{\"colorbar\":{\"outlinewidth\":0,\"ticks\":\"\"}},\"type\":\"scatter3d\"}],\"scattercarpet\":[{\"marker\":{\"colorbar\":{\"outlinewidth\":0,\"ticks\":\"\"}},\"type\":\"scattercarpet\"}],\"scattergeo\":[{\"marker\":{\"colorbar\":{\"outlinewidth\":0,\"ticks\":\"\"}},\"type\":\"scattergeo\"}],\"scattergl\":[{\"marker\":{\"colorbar\":{\"outlinewidth\":0,\"ticks\":\"\"}},\"type\":\"scattergl\"}],\"scattermapbox\":[{\"marker\":{\"colorbar\":{\"outlinewidth\":0,\"ticks\":\"\"}},\"type\":\"scattermapbox\"}],\"scatterpolar\":[{\"marker\":{\"colorbar\":{\"outlinewidth\":0,\"ticks\":\"\"}},\"type\":\"scatterpolar\"}],\"scatterpolargl\":[{\"marker\":{\"colorbar\":{\"outlinewidth\":0,\"ticks\":\"\"}},\"type\":\"scatterpolargl\"}],\"scatterternary\":[{\"marker\":{\"colorbar\":{\"outlinewidth\":0,\"ticks\":\"\"}},\"type\":\"scatterternary\"}],\"surface\":[{\"colorbar\":{\"outlinewidth\":0,\"ticks\":\"\"},\"colorscale\":[[0.0,\"#0d0887\"],[0.1111111111111111,\"#46039f\"],[0.2222222222222222,\"#7201a8\"],[0.3333333333333333,\"#9c179e\"],[0.4444444444444444,\"#bd3786\"],[0.5555555555555556,\"#d8576b\"],[0.6666666666666666,\"#ed7953\"],[0.7777777777777778,\"#fb9f3a\"],[0.8888888888888888,\"#fdca26\"],[1.0,\"#f0f921\"]],\"type\":\"surface\"}],\"table\":[{\"cells\":{\"fill\":{\"color\":\"#EBF0F8\"},\"line\":{\"color\":\"white\"}},\"header\":{\"fill\":{\"color\":\"#C8D4E3\"},\"line\":{\"color\":\"white\"}},\"type\":\"table\"}]},\"layout\":{\"annotationdefaults\":{\"arrowcolor\":\"#2a3f5f\",\"arrowhead\":0,\"arrowwidth\":1},\"autotypenumbers\":\"strict\",\"coloraxis\":{\"colorbar\":{\"outlinewidth\":0,\"ticks\":\"\"}},\"colorscale\":{\"diverging\":[[0,\"#8e0152\"],[0.1,\"#c51b7d\"],[0.2,\"#de77ae\"],[0.3,\"#f1b6da\"],[0.4,\"#fde0ef\"],[0.5,\"#f7f7f7\"],[0.6,\"#e6f5d0\"],[0.7,\"#b8e186\"],[0.8,\"#7fbc41\"],[0.9,\"#4d9221\"],[1,\"#276419\"]],\"sequential\":[[0.0,\"#0d0887\"],[0.1111111111111111,\"#46039f\"],[0.2222222222222222,\"#7201a8\"],[0.3333333333333333,\"#9c179e\"],[0.4444444444444444,\"#bd3786\"],[0.5555555555555556,\"#d8576b\"],[0.6666666666666666,\"#ed7953\"],[0.7777777777777778,\"#fb9f3a\"],[0.8888888888888888,\"#fdca26\"],[1.0,\"#f0f921\"]],\"sequentialminus\":[[0.0,\"#0d0887\"],[0.1111111111111111,\"#46039f\"],[0.2222222222222222,\"#7201a8\"],[0.3333333333333333,\"#9c179e\"],[0.4444444444444444,\"#bd3786\"],[0.5555555555555556,\"#d8576b\"],[0.6666666666666666,\"#ed7953\"],[0.7777777777777778,\"#fb9f3a\"],[0.8888888888888888,\"#fdca26\"],[1.0,\"#f0f921\"]]},\"colorway\":[\"#636efa\",\"#EF553B\",\"#00cc96\",\"#ab63fa\",\"#FFA15A\",\"#19d3f3\",\"#FF6692\",\"#B6E880\",\"#FF97FF\",\"#FECB52\"],\"font\":{\"color\":\"#2a3f5f\"},\"geo\":{\"bgcolor\":\"white\",\"lakecolor\":\"white\",\"landcolor\":\"#E5ECF6\",\"showlakes\":true,\"showland\":true,\"subunitcolor\":\"white\"},\"hoverlabel\":{\"align\":\"left\"},\"hovermode\":\"closest\",\"mapbox\":{\"style\":\"light\"},\"paper_bgcolor\":\"white\",\"plot_bgcolor\":\"#E5ECF6\",\"polar\":{\"angularaxis\":{\"gridcolor\":\"white\",\"linecolor\":\"white\",\"ticks\":\"\"},\"bgcolor\":\"#E5ECF6\",\"radialaxis\":{\"gridcolor\":\"white\",\"linecolor\":\"white\",\"ticks\":\"\"}},\"scene\":{\"xaxis\":{\"backgroundcolor\":\"#E5ECF6\",\"gridcolor\":\"white\",\"gridwidth\":2,\"linecolor\":\"white\",\"showbackground\":true,\"ticks\":\"\",\"zerolinecolor\":\"white\"},\"yaxis\":{\"backgroundcolor\":\"#E5ECF6\",\"gridcolor\":\"white\",\"gridwidth\":2,\"linecolor\":\"white\",\"showbackground\":true,\"ticks\":\"\",\"zerolinecolor\":\"white\"},\"zaxis\":{\"backgroundcolor\":\"#E5ECF6\",\"gridcolor\":\"white\",\"gridwidth\":2,\"linecolor\":\"white\",\"showbackground\":true,\"ticks\":\"\",\"zerolinecolor\":\"white\"}},\"shapedefaults\":{\"line\":{\"color\":\"#2a3f5f\"}},\"ternary\":{\"aaxis\":{\"gridcolor\":\"white\",\"linecolor\":\"white\",\"ticks\":\"\"},\"baxis\":{\"gridcolor\":\"white\",\"linecolor\":\"white\",\"ticks\":\"\"},\"bgcolor\":\"#E5ECF6\",\"caxis\":{\"gridcolor\":\"white\",\"linecolor\":\"white\",\"ticks\":\"\"}},\"title\":{\"x\":0.05},\"xaxis\":{\"automargin\":true,\"gridcolor\":\"white\",\"linecolor\":\"white\",\"ticks\":\"\",\"title\":{\"standoff\":15},\"zerolinecolor\":\"white\",\"zerolinewidth\":2},\"yaxis\":{\"automargin\":true,\"gridcolor\":\"white\",\"linecolor\":\"white\",\"ticks\":\"\",\"title\":{\"standoff\":15},\"zerolinecolor\":\"white\",\"zerolinewidth\":2}}},\"xaxis\":{\"anchor\":\"y\",\"domain\":[0.0,1.0],\"title\":{\"text\":\"name\"}},\"yaxis\":{\"anchor\":\"x\",\"domain\":[0.0,1.0],\"title\":{\"text\":\"importance\"}},\"legend\":{\"tracegroupgap\":0},\"title\":{\"text\":\"features importance\"},\"barmode\":\"relative\"},                        {\"responsive\": true}                    )                };                            </script>        </div>\n",
       "</body>\n",
       "</html>"
      ]
     },
     "metadata": {
      "application/vnd.databricks.v1+output": {
       "addedWidgets": {},
       "arguments": {},
       "data": "<html>\n<head><meta charset=\"utf-8\" /></head>\n<body>\n    <div>            <script src=\"https://cdnjs.cloudflare.com/ajax/libs/mathjax/2.7.5/MathJax.js?config=TeX-AMS-MML_SVG\"></script><script type=\"text/javascript\">if (window.MathJax) {MathJax.Hub.Config({SVG: {font: \"STIX-Web\"}});}</script>                <script type=\"text/javascript\">window.PlotlyConfig = {MathJaxConfig: 'local'};</script>\n        <script src=\"https://cdn.plot.ly/plotly-2.9.0.min.js\"></script>                <div id=\"85e115cd-c799-4cb5-a609-f4d1962135aa\" class=\"plotly-graph-div\" style=\"height:100%; width:100%;\"></div>            <script type=\"text/javascript\">                                    window.PLOTLYENV=window.PLOTLYENV || {};                                    if (document.getElementById(\"85e115cd-c799-4cb5-a609-f4d1962135aa\")) {                    Plotly.newPlot(                        \"85e115cd-c799-4cb5-a609-f4d1962135aa\",                        [{\"alignmentgroup\":\"True\",\"hovertemplate\":\"name=%{x}<br>importance=%{y}<extra></extra>\",\"legendgroup\":\"\",\"marker\":{\"color\":\"#636efa\",\"pattern\":{\"shape\":\"\"}},\"name\":\"\",\"offsetgroup\":\"\",\"orientation\":\"v\",\"showlegend\":false,\"textposition\":\"auto\",\"x\":[\"PriorDefault\",\"Employed\",\"YearsEmployed\",\"CreditScore\",\"Income\",\"Debt\",\"Age\",\"ZipCode\",\"Married\",\"EthnicityVec_Black\",\"EthnicityVec_Latino\",\"BankCustomer\",\"IndustryVec_Financials\",\"IndustryVec_Utilities\",\"Gender\",\"IndustryVec_Industrials\",\"DriversLicense\",\"IndustryVec_Healthcare\",\"IndustryVec_Energy\",\"EthnicityVec_White\",\"CitizenVec_ByBirth\",\"IndustryVec_Education\",\"IndustryVec_ConsumerStaples\",\"CitizenVec_ByOtherMeans\",\"IndustryVec_Materials\",\"IndustryVec_ConsumerDiscretionary\",\"IndustryVec_CommunicationServices\",\"EthnicityVec_Asian\",\"IndustryVec_InformationTechnology\",\"IndustryVec_Research\",\"IndustryVec_Real Estate\"],\"xaxis\":\"x\",\"y\":[0.4262863551330865,0.09331229879053819,0.09267548389640276,0.07513846080570395,0.05910421972963063,0.05725524627914709,0.03827297602671219,0.033966917040141306,0.021583188333519066,0.014273782811793579,0.010038628525522977,0.008676486084175521,0.008644822793507752,0.0086049746294555,0.007331703629481134,0.0061840875409904395,0.0059957098123795665,0.005754554962011835,0.0052731566898221805,0.003940282621396805,0.0038562022836607446,0.003594815800115283,0.0032176648467711136,0.0025032327201067474,0.001362368801646431,0.0012357247232853902,0.0010009391052512525,0.0006856621378187726,0.00019485436506260105,3.519908086273998e-05,0.0],\"yaxis\":\"y\",\"type\":\"bar\"}],                        {\"template\":{\"data\":{\"bar\":[{\"error_x\":{\"color\":\"#2a3f5f\"},\"error_y\":{\"color\":\"#2a3f5f\"},\"marker\":{\"line\":{\"color\":\"#E5ECF6\",\"width\":0.5},\"pattern\":{\"fillmode\":\"overlay\",\"size\":10,\"solidity\":0.2}},\"type\":\"bar\"}],\"barpolar\":[{\"marker\":{\"line\":{\"color\":\"#E5ECF6\",\"width\":0.5},\"pattern\":{\"fillmode\":\"overlay\",\"size\":10,\"solidity\":0.2}},\"type\":\"barpolar\"}],\"carpet\":[{\"aaxis\":{\"endlinecolor\":\"#2a3f5f\",\"gridcolor\":\"white\",\"linecolor\":\"white\",\"minorgridcolor\":\"white\",\"startlinecolor\":\"#2a3f5f\"},\"baxis\":{\"endlinecolor\":\"#2a3f5f\",\"gridcolor\":\"white\",\"linecolor\":\"white\",\"minorgridcolor\":\"white\",\"startlinecolor\":\"#2a3f5f\"},\"type\":\"carpet\"}],\"choropleth\":[{\"colorbar\":{\"outlinewidth\":0,\"ticks\":\"\"},\"type\":\"choropleth\"}],\"contour\":[{\"colorbar\":{\"outlinewidth\":0,\"ticks\":\"\"},\"colorscale\":[[0.0,\"#0d0887\"],[0.1111111111111111,\"#46039f\"],[0.2222222222222222,\"#7201a8\"],[0.3333333333333333,\"#9c179e\"],[0.4444444444444444,\"#bd3786\"],[0.5555555555555556,\"#d8576b\"],[0.6666666666666666,\"#ed7953\"],[0.7777777777777778,\"#fb9f3a\"],[0.8888888888888888,\"#fdca26\"],[1.0,\"#f0f921\"]],\"type\":\"contour\"}],\"contourcarpet\":[{\"colorbar\":{\"outlinewidth\":0,\"ticks\":\"\"},\"type\":\"contourcarpet\"}],\"heatmap\":[{\"colorbar\":{\"outlinewidth\":0,\"ticks\":\"\"},\"colorscale\":[[0.0,\"#0d0887\"],[0.1111111111111111,\"#46039f\"],[0.2222222222222222,\"#7201a8\"],[0.3333333333333333,\"#9c179e\"],[0.4444444444444444,\"#bd3786\"],[0.5555555555555556,\"#d8576b\"],[0.6666666666666666,\"#ed7953\"],[0.7777777777777778,\"#fb9f3a\"],[0.8888888888888888,\"#fdca26\"],[1.0,\"#f0f921\"]],\"type\":\"heatmap\"}],\"heatmapgl\":[{\"colorbar\":{\"outlinewidth\":0,\"ticks\":\"\"},\"colorscale\":[[0.0,\"#0d0887\"],[0.1111111111111111,\"#46039f\"],[0.2222222222222222,\"#7201a8\"],[0.3333333333333333,\"#9c179e\"],[0.4444444444444444,\"#bd3786\"],[0.5555555555555556,\"#d8576b\"],[0.6666666666666666,\"#ed7953\"],[0.7777777777777778,\"#fb9f3a\"],[0.8888888888888888,\"#fdca26\"],[1.0,\"#f0f921\"]],\"type\":\"heatmapgl\"}],\"histogram\":[{\"marker\":{\"pattern\":{\"fillmode\":\"overlay\",\"size\":10,\"solidity\":0.2}},\"type\":\"histogram\"}],\"histogram2d\":[{\"colorbar\":{\"outlinewidth\":0,\"ticks\":\"\"},\"colorscale\":[[0.0,\"#0d0887\"],[0.1111111111111111,\"#46039f\"],[0.2222222222222222,\"#7201a8\"],[0.3333333333333333,\"#9c179e\"],[0.4444444444444444,\"#bd3786\"],[0.5555555555555556,\"#d8576b\"],[0.6666666666666666,\"#ed7953\"],[0.7777777777777778,\"#fb9f3a\"],[0.8888888888888888,\"#fdca26\"],[1.0,\"#f0f921\"]],\"type\":\"histogram2d\"}],\"histogram2dcontour\":[{\"colorbar\":{\"outlinewidth\":0,\"ticks\":\"\"},\"colorscale\":[[0.0,\"#0d0887\"],[0.1111111111111111,\"#46039f\"],[0.2222222222222222,\"#7201a8\"],[0.3333333333333333,\"#9c179e\"],[0.4444444444444444,\"#bd3786\"],[0.5555555555555556,\"#d8576b\"],[0.6666666666666666,\"#ed7953\"],[0.7777777777777778,\"#fb9f3a\"],[0.8888888888888888,\"#fdca26\"],[1.0,\"#f0f921\"]],\"type\":\"histogram2dcontour\"}],\"mesh3d\":[{\"colorbar\":{\"outlinewidth\":0,\"ticks\":\"\"},\"type\":\"mesh3d\"}],\"parcoords\":[{\"line\":{\"colorbar\":{\"outlinewidth\":0,\"ticks\":\"\"}},\"type\":\"parcoords\"}],\"pie\":[{\"automargin\":true,\"type\":\"pie\"}],\"scatter\":[{\"marker\":{\"colorbar\":{\"outlinewidth\":0,\"ticks\":\"\"}},\"type\":\"scatter\"}],\"scatter3d\":[{\"line\":{\"colorbar\":{\"outlinewidth\":0,\"ticks\":\"\"}},\"marker\":{\"colorbar\":{\"outlinewidth\":0,\"ticks\":\"\"}},\"type\":\"scatter3d\"}],\"scattercarpet\":[{\"marker\":{\"colorbar\":{\"outlinewidth\":0,\"ticks\":\"\"}},\"type\":\"scattercarpet\"}],\"scattergeo\":[{\"marker\":{\"colorbar\":{\"outlinewidth\":0,\"ticks\":\"\"}},\"type\":\"scattergeo\"}],\"scattergl\":[{\"marker\":{\"colorbar\":{\"outlinewidth\":0,\"ticks\":\"\"}},\"type\":\"scattergl\"}],\"scattermapbox\":[{\"marker\":{\"colorbar\":{\"outlinewidth\":0,\"ticks\":\"\"}},\"type\":\"scattermapbox\"}],\"scatterpolar\":[{\"marker\":{\"colorbar\":{\"outlinewidth\":0,\"ticks\":\"\"}},\"type\":\"scatterpolar\"}],\"scatterpolargl\":[{\"marker\":{\"colorbar\":{\"outlinewidth\":0,\"ticks\":\"\"}},\"type\":\"scatterpolargl\"}],\"scatterternary\":[{\"marker\":{\"colorbar\":{\"outlinewidth\":0,\"ticks\":\"\"}},\"type\":\"scatterternary\"}],\"surface\":[{\"colorbar\":{\"outlinewidth\":0,\"ticks\":\"\"},\"colorscale\":[[0.0,\"#0d0887\"],[0.1111111111111111,\"#46039f\"],[0.2222222222222222,\"#7201a8\"],[0.3333333333333333,\"#9c179e\"],[0.4444444444444444,\"#bd3786\"],[0.5555555555555556,\"#d8576b\"],[0.6666666666666666,\"#ed7953\"],[0.7777777777777778,\"#fb9f3a\"],[0.8888888888888888,\"#fdca26\"],[1.0,\"#f0f921\"]],\"type\":\"surface\"}],\"table\":[{\"cells\":{\"fill\":{\"color\":\"#EBF0F8\"},\"line\":{\"color\":\"white\"}},\"header\":{\"fill\":{\"color\":\"#C8D4E3\"},\"line\":{\"color\":\"white\"}},\"type\":\"table\"}]},\"layout\":{\"annotationdefaults\":{\"arrowcolor\":\"#2a3f5f\",\"arrowhead\":0,\"arrowwidth\":1},\"autotypenumbers\":\"strict\",\"coloraxis\":{\"colorbar\":{\"outlinewidth\":0,\"ticks\":\"\"}},\"colorscale\":{\"diverging\":[[0,\"#8e0152\"],[0.1,\"#c51b7d\"],[0.2,\"#de77ae\"],[0.3,\"#f1b6da\"],[0.4,\"#fde0ef\"],[0.5,\"#f7f7f7\"],[0.6,\"#e6f5d0\"],[0.7,\"#b8e186\"],[0.8,\"#7fbc41\"],[0.9,\"#4d9221\"],[1,\"#276419\"]],\"sequential\":[[0.0,\"#0d0887\"],[0.1111111111111111,\"#46039f\"],[0.2222222222222222,\"#7201a8\"],[0.3333333333333333,\"#9c179e\"],[0.4444444444444444,\"#bd3786\"],[0.5555555555555556,\"#d8576b\"],[0.6666666666666666,\"#ed7953\"],[0.7777777777777778,\"#fb9f3a\"],[0.8888888888888888,\"#fdca26\"],[1.0,\"#f0f921\"]],\"sequentialminus\":[[0.0,\"#0d0887\"],[0.1111111111111111,\"#46039f\"],[0.2222222222222222,\"#7201a8\"],[0.3333333333333333,\"#9c179e\"],[0.4444444444444444,\"#bd3786\"],[0.5555555555555556,\"#d8576b\"],[0.6666666666666666,\"#ed7953\"],[0.7777777777777778,\"#fb9f3a\"],[0.8888888888888888,\"#fdca26\"],[1.0,\"#f0f921\"]]},\"colorway\":[\"#636efa\",\"#EF553B\",\"#00cc96\",\"#ab63fa\",\"#FFA15A\",\"#19d3f3\",\"#FF6692\",\"#B6E880\",\"#FF97FF\",\"#FECB52\"],\"font\":{\"color\":\"#2a3f5f\"},\"geo\":{\"bgcolor\":\"white\",\"lakecolor\":\"white\",\"landcolor\":\"#E5ECF6\",\"showlakes\":true,\"showland\":true,\"subunitcolor\":\"white\"},\"hoverlabel\":{\"align\":\"left\"},\"hovermode\":\"closest\",\"mapbox\":{\"style\":\"light\"},\"paper_bgcolor\":\"white\",\"plot_bgcolor\":\"#E5ECF6\",\"polar\":{\"angularaxis\":{\"gridcolor\":\"white\",\"linecolor\":\"white\",\"ticks\":\"\"},\"bgcolor\":\"#E5ECF6\",\"radialaxis\":{\"gridcolor\":\"white\",\"linecolor\":\"white\",\"ticks\":\"\"}},\"scene\":{\"xaxis\":{\"backgroundcolor\":\"#E5ECF6\",\"gridcolor\":\"white\",\"gridwidth\":2,\"linecolor\":\"white\",\"showbackground\":true,\"ticks\":\"\",\"zerolinecolor\":\"white\"},\"yaxis\":{\"backgroundcolor\":\"#E5ECF6\",\"gridcolor\":\"white\",\"gridwidth\":2,\"linecolor\":\"white\",\"showbackground\":true,\"ticks\":\"\",\"zerolinecolor\":\"white\"},\"zaxis\":{\"backgroundcolor\":\"#E5ECF6\",\"gridcolor\":\"white\",\"gridwidth\":2,\"linecolor\":\"white\",\"showbackground\":true,\"ticks\":\"\",\"zerolinecolor\":\"white\"}},\"shapedefaults\":{\"line\":{\"color\":\"#2a3f5f\"}},\"ternary\":{\"aaxis\":{\"gridcolor\":\"white\",\"linecolor\":\"white\",\"ticks\":\"\"},\"baxis\":{\"gridcolor\":\"white\",\"linecolor\":\"white\",\"ticks\":\"\"},\"bgcolor\":\"#E5ECF6\",\"caxis\":{\"gridcolor\":\"white\",\"linecolor\":\"white\",\"ticks\":\"\"}},\"title\":{\"x\":0.05},\"xaxis\":{\"automargin\":true,\"gridcolor\":\"white\",\"linecolor\":\"white\",\"ticks\":\"\",\"title\":{\"standoff\":15},\"zerolinecolor\":\"white\",\"zerolinewidth\":2},\"yaxis\":{\"automargin\":true,\"gridcolor\":\"white\",\"linecolor\":\"white\",\"ticks\":\"\",\"title\":{\"standoff\":15},\"zerolinecolor\":\"white\",\"zerolinewidth\":2}}},\"xaxis\":{\"anchor\":\"y\",\"domain\":[0.0,1.0],\"title\":{\"text\":\"name\"}},\"yaxis\":{\"anchor\":\"x\",\"domain\":[0.0,1.0],\"title\":{\"text\":\"importance\"}},\"legend\":{\"tracegroupgap\":0},\"title\":{\"text\":\"features importance\"},\"barmode\":\"relative\"},                        {\"responsive\": true}                    )                };                            </script>        </div>\n</body>\n</html>",
       "datasetInfos": [],
       "metadata": {},
       "removedWidgets": [],
       "textData": null,
       "type": "htmlSandbox"
      }
     },
     "output_type": "display_data"
    }
   ],
   "source": [
    "importance_plot.plot.bar(x='name',y='importance',title = 'features importance')"
   ]
  },
  {
   "cell_type": "markdown",
   "metadata": {
    "application/vnd.databricks.v1+cell": {
     "cellMetadata": {},
     "inputWidgets": {},
     "nuid": "74af17bf-a91e-4fc2-92da-8064b877b8a7",
     "showTitle": false,
     "title": ""
    }
   },
   "source": [
    "<div style=\"direction:rtl\">\n",
    "ניתן לראות קוראלציה חזקה מאוד בין אם בעבר האדם התקשה בביצוע תשלומים אליהם התחייב אל אי קבלת אישור אשראי ולכן זה הוא המאפיין הראשון והמכריע על קבלת אשראי, לאחר מכן מאפיין של סטטוס העבודה של האדם וזמן ההעסקה שלו , ולבסוף המאפיין של ציון האשראי של אותו אדם המבקש אישור אשראי.\n",
    "\n",
    "לפיכך, המלצתנו לחברה אשר נותנת אישורי אשראי להתמקד במאפיינים אלו של הלקוח, וכאשר אחד ממאפיינים אלו (או כולם) אינם מתקיימים יש לשקול דחיית אישור אשראי לאותו לקוח כדי למנוע סיכון עתידי\n",
    "</div>"
   ]
  },
  {
   "cell_type": "code",
   "execution_count": 0,
   "metadata": {
    "application/vnd.databricks.v1+cell": {
     "cellMetadata": {},
     "inputWidgets": {},
     "nuid": "9271c08a-4d0a-4ec3-b26b-309305902e4e",
     "showTitle": false,
     "title": ""
    }
   },
   "outputs": [],
   "source": []
  }
 ],
 "metadata": {
  "application/vnd.databricks.v1+notebook": {
   "dashboards": [],
   "language": "python",
   "notebookMetadata": {
    "pythonIndentUnit": 4
   },
   "notebookName": "Credit_approval222",
   "widgets": {}
  }
 },
 "nbformat": 4,
 "nbformat_minor": 0
}
